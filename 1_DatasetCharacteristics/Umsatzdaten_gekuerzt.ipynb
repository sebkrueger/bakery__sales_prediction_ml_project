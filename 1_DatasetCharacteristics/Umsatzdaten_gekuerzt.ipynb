{
 "cells": [
  {
   "cell_type": "markdown",
   "metadata": {},
   "source": [
    "# Dataset Characteristic of Sales data"
   ]
  },
  {
   "cell_type": "code",
   "execution_count": 7,
   "metadata": {},
   "outputs": [],
   "source": [
    "# read salesdata in data frame and prepare matplot for later diagrams\n",
    "import pandas as pd\n",
    "import matplotlib.pyplot as plt\n",
    "\n",
    "sales_data = pd.read_csv('../bakery_sales_data/umsatzdaten_gekuerzt.csv')\n",
    "\n",
    "# convert for later calculation into datetime type\n",
    "sales_data['Datum'] = pd.to_datetime(sales_data['Datum'])"
   ]
  },
  {
   "cell_type": "markdown",
   "metadata": {},
   "source": [
    "## Basic information"
   ]
  },
  {
   "cell_type": "code",
   "execution_count": 5,
   "metadata": {},
   "outputs": [
    {
     "name": "stdout",
     "output_type": "stream",
     "text": [
      "       Datum  Warengruppe      Umsatz\n",
      "0 2013-07-01            1  148.828353\n",
      "1 2013-07-02            1  159.793757\n",
      "2 2013-07-03            1  111.885594\n",
      "\n",
      "\n",
      "          Datum  Warengruppe     Umsatz\n",
      "9331 2017-12-23            6  84.062223\n",
      "9332 2017-12-24            6  60.981969\n",
      "9333 2017-12-27            6  34.972644\n",
      "\n",
      "\n",
      "          Datum  Warengruppe      Umsatz\n",
      "3047 2016-12-03            2  303.777432\n",
      "6231 2015-10-14            4   83.192645\n",
      "1724 2018-04-26            1  132.024346\n",
      "1528 2017-10-06            1  143.098737\n",
      "5623 2014-01-03            4  111.358444\n",
      "\n",
      "\n",
      "<class 'pandas.core.frame.DataFrame'>\n",
      "RangeIndex: 9334 entries, 0 to 9333\n",
      "Data columns (total 3 columns):\n",
      " #   Column       Non-Null Count  Dtype         \n",
      "---  ------       --------------  -----         \n",
      " 0   Datum        9334 non-null   datetime64[ns]\n",
      " 1   Warengruppe  9334 non-null   int64         \n",
      " 2   Umsatz       9334 non-null   float64       \n",
      "dtypes: datetime64[ns](1), float64(1), int64(1)\n",
      "memory usage: 218.9 KB\n"
     ]
    }
   ],
   "source": [
    "print(sales_data.head(3))\n",
    "print(\"\\n\")\n",
    "print(sales_data.tail(3))\n",
    "print(\"\\n\")\n",
    "print(sales_data.sample(5))\n",
    "print(\"\\n\")\n",
    "sales_data.info()"
   ]
  },
  {
   "cell_type": "markdown",
   "metadata": {},
   "source": [
    "- We have 9334 Entries in set\n",
    "- One value is date of collected sales data in format YYYY-MM-DD\n",
    "- One value is \"Warengruppe\" that looks like an interer number that refer to a product group\n",
    "- \"Umsatz\" presumably represents the turnover of a product group on a certain day in EUR currency. Interestingly, the values here are stored with six decimal places and in float data type. in CSV, even with up to 12 decimal places, this does not seem necessary for the representation of a turnover value"
   ]
  },
  {
   "cell_type": "markdown",
   "metadata": {},
   "source": [
    "## Diagramms\n",
    "\n",
    "### Date destribution of datasets"
   ]
  },
  {
   "cell_type": "code",
   "execution_count": 8,
   "metadata": {},
   "outputs": [
    {
     "data": {
      "image/png": "[encoded data removed]",
      "text/plain": [
       "<Figure size 1000x600 with 1 Axes>"
      ]
     },
     "metadata": {},
     "output_type": "display_data"
    }
   ],
   "source": [
    "plt.figure(figsize=(10, 6))\n",
    "# Count values per data to check how many entries \"Warengruppe\" we have per date\n",
    "sales_data['Datum'].value_counts().sort_index().plot(kind='bar')\n",
    "plt.xlabel('date')\n",
    "plt.ylabel('Count of Datasets')\n",
    "plt.title('Histogramm of Warngruppen entries per date value')\n",
    "plt.xticks(rotation=45)\n",
    "plt.show()"
   ]
  },
  {
   "cell_type": "markdown",
   "metadata": {},
   "source": [
    "Findings: There are up to 6 product group entries in one day. But sometimes there are fewer."
   ]
  },
  {
   "cell_type": "code",
   "execution_count": 13,
   "metadata": {},
   "outputs": [
    {
     "name": "stdout",
     "output_type": "stream",
     "text": [
      "Oldest date: 2013-07-01 00:00:00\n",
      "Latest date: 2018-07-31 00:00:00\n",
      "Data in the period without sales values:\n",
      "DatetimeIndex(['2013-12-25', '2013-12-26', '2013-12-28', '2014-01-01',\n",
      "               '2014-04-18', '2014-05-01', '2014-05-03', '2014-05-04',\n",
      "               '2014-08-17', '2014-12-25', '2014-12-26', '2015-01-01',\n",
      "               '2015-04-03', '2015-05-01', '2015-12-25', '2015-12-26',\n",
      "               '2016-01-01', '2016-03-24', '2016-03-25', '2016-07-07',\n",
      "               '2016-07-18', '2016-08-14', '2016-08-15', '2016-12-17',\n",
      "               '2016-12-25', '2016-12-26', '2017-01-01', '2017-04-14',\n",
      "               '2017-05-01', '2017-07-04', '2017-10-23', '2017-10-31',\n",
      "               '2017-12-25', '2017-12-26', '2018-01-01', '2018-03-30',\n",
      "               '2018-05-01', '2018-05-21'],\n",
      "              dtype='datetime64[ns]', freq=None)\n"
     ]
    }
   ],
   "source": [
    "# find oldest and latest date entry\n",
    "min_date = sales_data['Datum'].min()\n",
    "max_date = sales_data['Datum'].max()\n",
    "\n",
    "print(f\"Oldest date: {min_date}\")\n",
    "print(f\"Latest date: {max_date}\")\n",
    "\n",
    "# Create a complete list of date values in the range from the oldest to the most recent date\n",
    "all_dates = pd.date_range(start=min_date, end=max_date)\n",
    "\n",
    "# Check which data in this area has no sales value\n",
    "existing_dates = sales_data['Datum'].unique()\n",
    "missing_dates = all_dates.difference(existing_dates)\n",
    "\n",
    "print(\"Data in the period without sales values:\")\n",
    "print(missing_dates)"
   ]
  },
  {
   "cell_type": "markdown",
   "metadata": {},
   "source": [
    "In addition to the start and end date of the data set, the list of missing sales shows that this is apparently always the case on public holidays, such as 1 May, when the shop is presumably always closed!"
   ]
  },
  {
   "cell_type": "markdown",
   "metadata": {},
   "source": [
    "### List all the contained values of \"Warengruppe\""
   ]
  },
  {
   "cell_type": "code",
   "execution_count": 11,
   "metadata": {},
   "outputs": [
    {
     "name": "stdout",
     "output_type": "stream",
     "text": [
      "Different Warengruppen:\n",
      "[1 2 3 4 5 6]\n"
     ]
    }
   ],
   "source": [
    "# Calculate the different Warengruppen\n",
    "unique_product_groups = sales_data['Warengruppe'].unique()\n",
    "\n",
    "print(\"Different Warengruppen:\")\n",
    "print(unique_product_groups)"
   ]
  },
  {
   "cell_type": "markdown",
   "metadata": {},
   "source": [
    "Finding: There a only 1 to 6 as possible value for \"Warengruppe\""
   ]
  },
  {
   "cell_type": "markdown",
   "metadata": {},
   "source": [
    "### Check if more than one entry per date + product group exists"
   ]
  },
  {
   "cell_type": "code",
   "execution_count": 10,
   "metadata": {},
   "outputs": [
    {
     "name": "stdout",
     "output_type": "stream",
     "text": [
      "Entries with multiple sales per product group:\n",
      "Empty DataFrame\n",
      "Columns: [Datum, Warengruppe, Count]\n",
      "Index: []\n"
     ]
    }
   ],
   "source": [
    "# Group by 'Datum' and 'Warengruppe' and count the number of entries\n",
    "grouped_sales_data = sales_data.groupby(['Datum', 'Warengruppe']).size().reset_index(name='Count')\n",
    "\n",
    "# Filter the groups with more than one entry\n",
    "multiple_entries = grouped_sales_data[grouped_sales_data['Count'] > 1]\n",
    "\n",
    "# Display the results\n",
    "print(\"Entries with multiple sales per product group:\")\n",
    "print(multiple_entries)"
   ]
  },
  {
   "cell_type": "markdown",
   "metadata": {},
   "source": [
    "Finding: There are only unique combinations of \"Warengruppe\" and \"Datum\" in Dataset."
   ]
  }
 ],
 "metadata": {
  "kernelspec": {
   "display_name": "Python 3",
   "language": "python",
   "name": "python3"
  },
  "language_info": {
   "codemirror_mode": {
    "name": "ipython",
    "version": 3
   },
   "file_extension": ".py",
   "mimetype": "text/x-python",
   "name": "python",
   "nbconvert_exporter": "python",
   "pygments_lexer": "ipython3",
   "version": "3.10.13"
  }
 },
 "nbformat": 4,
 "nbformat_minor": 2
}
