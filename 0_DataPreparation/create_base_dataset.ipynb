{
 "cells": [
  {
   "cell_type": "markdown",
   "metadata": {},
   "source": [
    "# Create of base dataset\n",
    "\n",
    "Data will later splitted into this three sets with the following ranges\n",
    "\n",
    "- Trainingsset from 01.07.2013 until 31.07.2017\n",
    "- Valididationset from 01.08.2017 until 31.07.2018.\n",
    "- Testset (Upload to kaggle) from 01.08.2018 until 30.07.2019\n",
    "\n",
    "As we need all data input for weather, KielerWoche and additional data, we create a base panda dataframe that covers the whole daterange and use it later in the different preparation files."
   ]
  },
  {
   "cell_type": "code",
   "execution_count": 1,
   "metadata": {},
   "outputs": [],
   "source": [
    "import pandas as pd\n",
    "\n",
    "# start and end date for data frame\n",
    "start_date = '2013-07-01'\n",
    "end_date = '2019-08-01'\n",
    "\n",
    "# pre-data frame to set date range\n",
    "full_time_series = pd.date_range(start=start_date, end=end_date, freq='D')\n",
    "base_dateranges = pd.DataFrame(full_time_series, columns=['Datum'])\n",
    "\n",
    "# store the dataframe\n",
    "base_dateranges.to_pickle('../exported_data/base_dateranges_data.pkl')"
   ]
  }
 ],
 "metadata": {
  "kernelspec": {
   "display_name": "Python 3",
   "language": "python",
   "name": "python3"
  },
  "language_info": {
   "codemirror_mode": {
    "name": "ipython",
    "version": 3
   },
   "file_extension": ".py",
   "mimetype": "text/x-python",
   "name": "python",
   "nbconvert_exporter": "python",
   "pygments_lexer": "ipython3",
   "version": "3.10.13"
  }
 },
 "nbformat": 4,
 "nbformat_minor": 2
}
