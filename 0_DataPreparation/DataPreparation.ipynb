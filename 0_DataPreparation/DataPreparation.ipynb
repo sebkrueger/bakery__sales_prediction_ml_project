{
 "cells": [
  {
   "cell_type": "markdown",
   "metadata": {},
   "source": [
    "# Data Preparation\n",
    "\n",
    "In this step we read in the data set from different .csv files, have a look inot the data and merge them into on pandas dataframe."
   ]
  },
  {
   "cell_type": "code",
   "execution_count": 2,
   "metadata": {},
   "outputs": [],
   "source": [
    "# we will work with pandas\n",
    "import pandas as pd"
   ]
  },
  {
   "cell_type": "markdown",
   "metadata": {},
   "source": [
    "## Bakery sales data set"
   ]
  },
  {
   "cell_type": "code",
   "execution_count": 14,
   "metadata": {},
   "outputs": [
    {
     "name": "stdout",
     "output_type": "stream",
     "text": [
      "        Datum  Warengruppe      Umsatz\n",
      "0  2013-07-01            1  148.828353\n",
      "1  2013-07-02            1  159.793757\n",
      "2  2013-07-03            1  111.885594\n",
      "\n",
      "\n",
      "           Datum  Warengruppe     Umsatz\n",
      "9331  2017-12-23            6  84.062223\n",
      "9332  2017-12-24            6  60.981969\n",
      "9333  2017-12-27            6  34.972644\n",
      "\n",
      "\n",
      "           Datum  Warengruppe      Umsatz\n",
      "7328  2013-10-14            5  270.419719\n",
      "6346  2016-02-11            4  213.646592\n",
      "4631  2016-04-08            3  120.523885\n",
      "2581  2015-08-16            2  590.489205\n",
      "1252  2016-12-30            1  130.743679\n",
      "\n",
      "\n",
      "<class 'pandas.core.frame.DataFrame'>\n",
      "RangeIndex: 9334 entries, 0 to 9333\n",
      "Data columns (total 3 columns):\n",
      " #   Column       Non-Null Count  Dtype  \n",
      "---  ------       --------------  -----  \n",
      " 0   Datum        9334 non-null   object \n",
      " 1   Warengruppe  9334 non-null   int64  \n",
      " 2   Umsatz       9334 non-null   float64\n",
      "dtypes: float64(1), int64(1), object(1)\n",
      "memory usage: 218.9+ KB\n"
     ]
    }
   ],
   "source": [
    "# load the sales dataset\n",
    "sales_data = pd.read_csv('../bakery_sales_data/umsatzdaten_gekuerzt.csv')\n",
    "\n",
    "# show some sample information to get an idea of the content\n",
    "print(sales_data.head(3))\n",
    "print(\"\\n\")\n",
    "print(sales_data.tail(3))\n",
    "print(\"\\n\")\n",
    "print(sales_data.sample(5))\n",
    "print(\"\\n\")\n",
    "sales_data.info()\n"
   ]
  },
  {
   "cell_type": "markdown",
   "metadata": {},
   "source": [
    "### Analysis of the content\n",
    "The data are sales figures, presumably in euros, broken down by product group and per day."
   ]
  },
  {
   "cell_type": "markdown",
   "metadata": {},
   "source": [
    "## Weather data"
   ]
  },
  {
   "cell_type": "code",
   "execution_count": 15,
   "metadata": {},
   "outputs": [
    {
     "name": "stdout",
     "output_type": "stream",
     "text": [
      "        Datum  Bewoelkung  Temperatur  Windgeschwindigkeit  Wettercode\n",
      "0  2012-01-01         8.0      9.8250                   14        58.0\n",
      "1  2012-01-02         7.0      7.4375                   12         NaN\n",
      "2  2012-01-03         8.0      5.5375                   18        63.0\n",
      "\n",
      "\n",
      "           Datum  Bewoelkung  Temperatur  Windgeschwindigkeit  Wettercode\n",
      "2598  2019-07-30         7.0     20.7375                    8        61.0\n",
      "2599  2019-07-31         6.0     20.4500                    7        61.0\n",
      "2600  2019-08-01         5.0     21.0625                    9        61.0\n",
      "\n",
      "\n",
      "           Datum  Bewoelkung  Temperatur  Windgeschwindigkeit  Wettercode\n",
      "1424  2016-04-26         7.0      2.5000                    7        75.0\n",
      "1867  2017-07-14         3.0     19.5000                    8         NaN\n",
      "2414  2019-01-26         7.0      3.8375                    7        61.0\n",
      "1962  2017-10-19         6.0     14.8500                    9        10.0\n",
      "947   2015-01-05         8.0      5.8750                    8        20.0\n",
      "\n",
      "\n",
      "<class 'pandas.core.frame.DataFrame'>\n",
      "RangeIndex: 2601 entries, 0 to 2600\n",
      "Data columns (total 5 columns):\n",
      " #   Column               Non-Null Count  Dtype  \n",
      "---  ------               --------------  -----  \n",
      " 0   Datum                2601 non-null   object \n",
      " 1   Bewoelkung           2591 non-null   float64\n",
      " 2   Temperatur           2601 non-null   float64\n",
      " 3   Windgeschwindigkeit  2601 non-null   int64  \n",
      " 4   Wettercode           1932 non-null   float64\n",
      "dtypes: float64(3), int64(1), object(1)\n",
      "memory usage: 101.7+ KB\n"
     ]
    }
   ],
   "source": [
    "# load the weather dataset\n",
    "weather_data = pd.read_csv('../bakery_sales_data/wetter.csv')\n",
    "\n",
    "# show some sample information to get an idea of the content\n",
    "print(weather_data.head(3))\n",
    "print(\"\\n\")\n",
    "print(weather_data.tail(3))\n",
    "print(\"\\n\")\n",
    "print(weather_data.sample(5))\n",
    "print(\"\\n\")\n",
    "weather_data.info()\n"
   ]
  },
  {
   "cell_type": "markdown",
   "metadata": {},
   "source": [
    "### Analysis of the content\n",
    "Each entry in the data represents weather observations for a specific day at a specific location."
   ]
  },
  {
   "cell_type": "markdown",
   "metadata": {},
   "source": [
    "# Kieler Woche data"
   ]
  },
  {
   "cell_type": "code",
   "execution_count": 16,
   "metadata": {},
   "outputs": [
    {
     "name": "stdout",
     "output_type": "stream",
     "text": [
      "        Datum  KielerWoche\n",
      "0  2012-06-16            1\n",
      "1  2012-06-17            1\n",
      "2  2012-06-18            1\n",
      "\n",
      "\n",
      "         Datum  KielerWoche\n",
      "69  2019-06-28            1\n",
      "70  2019-06-29            1\n",
      "71  2019-06-30            1\n",
      "\n",
      "\n",
      "         Datum  KielerWoche\n",
      "12  2013-06-25            1\n",
      "27  2015-06-20            1\n",
      "34  2015-06-27            1\n",
      "62  2018-06-24            1\n",
      "70  2019-06-29            1\n",
      "\n",
      "\n",
      "<class 'pandas.core.frame.DataFrame'>\n",
      "RangeIndex: 72 entries, 0 to 71\n",
      "Data columns (total 2 columns):\n",
      " #   Column       Non-Null Count  Dtype \n",
      "---  ------       --------------  ----- \n",
      " 0   Datum        72 non-null     object\n",
      " 1   KielerWoche  72 non-null     int64 \n",
      "dtypes: int64(1), object(1)\n",
      "memory usage: 1.2+ KB\n"
     ]
    }
   ],
   "source": [
    "# load the kiwo dataset\n",
    "kiwo_data = pd.read_csv('../bakery_sales_data/kiwo.csv')\n",
    "\n",
    "# show some sample information to get an idea of the content\n",
    "print(kiwo_data.head(3))\n",
    "print(\"\\n\")\n",
    "print(kiwo_data.tail(3))\n",
    "print(\"\\n\")\n",
    "print(kiwo_data.sample(5))\n",
    "print(\"\\n\")\n",
    "kiwo_data.info()"
   ]
  },
  {
   "cell_type": "markdown",
   "metadata": {},
   "source": [
    "### Analysis of the content\n",
    "The dates list the days on which the \"Kieler Woche\", a major local event, took place."
   ]
  },
  {
   "cell_type": "markdown",
   "metadata": {},
   "source": [
    "## Merge of the three datasets\n",
    "We will use sales data as base table and left join wetherdata and kiwo data together."
   ]
  },
  {
   "cell_type": "code",
   "execution_count": 21,
   "metadata": {},
   "outputs": [
    {
     "name": "stdout",
     "output_type": "stream",
     "text": [
      "        Datum  Warengruppe      Umsatz  Bewoelkung  Temperatur  \\\n",
      "0  2013-07-01            1  148.828353         6.0     17.8375   \n",
      "1  2013-07-02            1  159.793757         3.0     17.3125   \n",
      "2  2013-07-03            1  111.885594         7.0     21.0750   \n",
      "\n",
      "   Windgeschwindigkeit  Wettercode  KielerWoche  \n",
      "0                 15.0        20.0          NaN  \n",
      "1                 10.0         NaN          NaN  \n",
      "2                  6.0        61.0          NaN  \n",
      "\n",
      "\n",
      "           Datum  Warengruppe     Umsatz  Bewoelkung  Temperatur  \\\n",
      "9331  2017-12-23            6  84.062223         7.0      7.8000   \n",
      "9332  2017-12-24            6  60.981969         7.0      8.1125   \n",
      "9333  2017-12-27            6  34.972644         7.0      4.6125   \n",
      "\n",
      "      Windgeschwindigkeit  Wettercode  KielerWoche  \n",
      "9331                 19.0        61.0          NaN  \n",
      "9332                 16.0        61.0          NaN  \n",
      "9333                  7.0        21.0          NaN  \n",
      "\n",
      "\n",
      "           Datum  Warengruppe      Umsatz  Bewoelkung  Temperatur  \\\n",
      "6813  2017-06-08            4   73.570490         7.0     14.8750   \n",
      "135   2013-11-13            1   78.038248         1.0      8.8000   \n",
      "4578  2016-02-13            3  100.464403         6.0      2.0000   \n",
      "7971  2015-08-02            5  313.031625         0.0     21.5000   \n",
      "2101  2014-04-13            2  631.475801         6.0     11.0125   \n",
      "\n",
      "      Windgeschwindigkeit  Wettercode  KielerWoche  \n",
      "6813                  8.0        61.0          NaN  \n",
      "135                  12.0         0.0          NaN  \n",
      "4578                  8.0        20.0          NaN  \n",
      "7971                  8.0         NaN          NaN  \n",
      "2101                 21.0         NaN          NaN  \n",
      "\n",
      "\n",
      "<class 'pandas.core.frame.DataFrame'>\n",
      "RangeIndex: 9334 entries, 0 to 9333\n",
      "Data columns (total 8 columns):\n",
      " #   Column               Non-Null Count  Dtype  \n",
      "---  ------               --------------  -----  \n",
      " 0   Datum                9334 non-null   object \n",
      " 1   Warengruppe          9334 non-null   int64  \n",
      " 2   Umsatz               9334 non-null   float64\n",
      " 3   Bewoelkung           9264 non-null   float64\n",
      " 4   Temperatur           9318 non-null   float64\n",
      " 5   Windgeschwindigkeit  9318 non-null   float64\n",
      " 6   Wettercode           7009 non-null   float64\n",
      " 7   KielerWoche          223 non-null    float64\n",
      "dtypes: float64(6), int64(1), object(1)\n",
      "memory usage: 583.5+ KB\n"
     ]
    }
   ],
   "source": [
    "bakery_sales_prediction_data = sales_data.merge(weather_data, on='Datum', how='left') \\\n",
    "    .merge(kiwo_data, on='Datum', how='left')\n",
    "\n",
    "# show sample data\n",
    "print(bakery_sales_prediction_data.head(3))\n",
    "print(\"\\n\")\n",
    "print(bakery_sales_prediction_data.tail(3))\n",
    "print(\"\\n\")\n",
    "print(bakery_sales_prediction_data.sample(5))\n",
    "print(\"\\n\")\n",
    "bakery_sales_prediction_data.info()"
   ]
  }
 ],
 "metadata": {
  "kernelspec": {
   "display_name": "Python 3",
   "language": "python",
   "name": "python3"
  },
  "language_info": {
   "codemirror_mode": {
    "name": "ipython",
    "version": 3
   },
   "file_extension": ".py",
   "mimetype": "text/x-python",
   "name": "python",
   "nbconvert_exporter": "python",
   "pygments_lexer": "ipython3",
   "version": "3.10.13"
  }
 },
 "nbformat": 4,
 "nbformat_minor": 2
}
