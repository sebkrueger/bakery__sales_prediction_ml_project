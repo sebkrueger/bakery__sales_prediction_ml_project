{
 "cells": [
  {
   "cell_type": "markdown",
   "metadata": {},
   "source": [
    "# Data Preparation\n",
    "\n",
    "In this step we read in the data set from different .csv files, have a look inot the data and merge them into on pandas dataframe."
   ]
  },
  {
   "cell_type": "code",
   "execution_count": 1,
   "metadata": {},
   "outputs": [
    {
     "name": "stderr",
     "output_type": "stream",
     "text": [
      "C:\\Users\\anna-\\AppData\\Local\\Temp\\ipykernel_30860\\1554370727.py:2: DeprecationWarning: \n",
      "Pyarrow will become a required dependency of pandas in the next major release of pandas (pandas 3.0),\n",
      "(to allow more performant data types, such as the Arrow string type, and better interoperability with other libraries)\n",
      "but was not found to be installed on your system.\n",
      "If this would cause problems for you,\n",
      "please provide us feedback at https://github.com/pandas-dev/pandas/issues/54466\n",
      "        \n",
      "  import pandas as pd\n"
     ]
    }
   ],
   "source": [
    "# we will work with pandas\n",
    "import pandas as pd"
   ]
  },
  {
   "cell_type": "markdown",
   "metadata": {},
   "source": [
    "## Bakery sales data set"
   ]
  },
  {
   "cell_type": "code",
   "execution_count": 3,
   "metadata": {},
   "outputs": [
    {
     "name": "stdout",
     "output_type": "stream",
     "text": [
      "        Datum  Warengruppe      Umsatz\n",
      "0  2013-07-01            1  148.828353\n",
      "1  2013-07-02            1  159.793757\n",
      "2  2013-07-03            1  111.885594\n",
      "\n",
      "\n",
      "           Datum  Warengruppe     Umsatz\n",
      "9331  2017-12-23            6  84.062223\n",
      "9332  2017-12-24            6  60.981969\n",
      "9333  2017-12-27            6  34.972644\n",
      "\n",
      "\n",
      "           Datum  Warengruppe      Umsatz\n",
      "636   2015-04-11            1  149.471146\n",
      "3057  2016-12-13            2  233.770002\n",
      "851   2015-11-13            1  137.780548\n",
      "4530  2015-12-24            3  137.024358\n",
      "9032  2018-07-22            5  259.770399\n",
      "\n",
      "\n",
      "<class 'pandas.core.frame.DataFrame'>\n",
      "RangeIndex: 9334 entries, 0 to 9333\n",
      "Data columns (total 3 columns):\n",
      " #   Column       Non-Null Count  Dtype  \n",
      "---  ------       --------------  -----  \n",
      " 0   Datum        9334 non-null   object \n",
      " 1   Warengruppe  9334 non-null   int64  \n",
      " 2   Umsatz       9334 non-null   float64\n",
      "dtypes: float64(1), int64(1), object(1)\n",
      "memory usage: 218.9+ KB\n"
     ]
    }
   ],
   "source": [
    "# load the sales dataset\n",
    "sales_data = pd.read_csv('../bakery_sales_data/umsatzdaten_gekuerzt.csv')\n",
    "\n",
    "# show some sample information to get an idea of the content\n",
    "print(sales_data.head(3))\n",
    "print(\"\\n\")\n",
    "print(sales_data.tail(3))\n",
    "print(\"\\n\")\n",
    "print(sales_data.sample(5))\n",
    "print(\"\\n\")\n",
    "sales_data.info()\n"
   ]
  },
  {
   "cell_type": "markdown",
   "metadata": {},
   "source": [
    "### Analysis of the content\n",
    "The data are sales figures, presumably in euros, broken down by product group and per day."
   ]
  },
  {
   "cell_type": "markdown",
   "metadata": {},
   "source": [
    "## Weather data"
   ]
  },
  {
   "cell_type": "code",
   "execution_count": 4,
   "metadata": {},
   "outputs": [
    {
     "name": "stdout",
     "output_type": "stream",
     "text": [
      "        Datum  Bewoelkung  Temperatur  Windgeschwindigkeit  Wettercode\n",
      "0  2012-01-01         8.0      9.8250                   14        58.0\n",
      "1  2012-01-02         7.0      7.4375                   12         NaN\n",
      "2  2012-01-03         8.0      5.5375                   18        63.0\n",
      "\n",
      "\n",
      "           Datum  Bewoelkung  Temperatur  Windgeschwindigkeit  Wettercode\n",
      "2598  2019-07-30         7.0     20.7375                    8        61.0\n",
      "2599  2019-07-31         6.0     20.4500                    7        61.0\n",
      "2600  2019-08-01         5.0     21.0625                    9        61.0\n",
      "\n",
      "\n",
      "           Datum  Bewoelkung  Temperatur  Windgeschwindigkeit  Wettercode\n",
      "2242  2018-07-26         0.0     28.8750                   12         5.0\n",
      "670   2014-04-03         3.0      7.6125                   15        10.0\n",
      "580   2014-01-03         7.0      6.8375                   10        63.0\n",
      "1143  2015-07-20         6.0     18.3750                   12        20.0\n",
      "1799  2017-05-07         0.0     17.1250                    9         0.0\n",
      "\n",
      "\n",
      "<class 'pandas.core.frame.DataFrame'>\n",
      "RangeIndex: 2601 entries, 0 to 2600\n",
      "Data columns (total 5 columns):\n",
      " #   Column               Non-Null Count  Dtype  \n",
      "---  ------               --------------  -----  \n",
      " 0   Datum                2601 non-null   object \n",
      " 1   Bewoelkung           2591 non-null   float64\n",
      " 2   Temperatur           2601 non-null   float64\n",
      " 3   Windgeschwindigkeit  2601 non-null   int64  \n",
      " 4   Wettercode           1932 non-null   float64\n",
      "dtypes: float64(3), int64(1), object(1)\n",
      "memory usage: 101.7+ KB\n"
     ]
    }
   ],
   "source": [
    "# load the weather dataset\n",
    "weather_data = pd.read_csv('../bakery_sales_data/wetter.csv')\n",
    "\n",
    "# show some sample information to get an idea of the content\n",
    "print(weather_data.head(3))\n",
    "print(\"\\n\")\n",
    "print(weather_data.tail(3))\n",
    "print(\"\\n\")\n",
    "print(weather_data.sample(5))\n",
    "print(\"\\n\")\n",
    "weather_data.info()\n"
   ]
  },
  {
   "cell_type": "markdown",
   "metadata": {},
   "source": [
    "### Analysis of the content\n",
    "Each entry in the data represents weather observations for a specific day at a specific location."
   ]
  },
  {
   "cell_type": "markdown",
   "metadata": {},
   "source": [
    "# Kieler Woche data"
   ]
  },
  {
   "cell_type": "code",
   "execution_count": 5,
   "metadata": {},
   "outputs": [
    {
     "name": "stdout",
     "output_type": "stream",
     "text": [
      "        Datum  KielerWoche\n",
      "0  2012-06-16            1\n",
      "1  2012-06-17            1\n",
      "2  2012-06-18            1\n",
      "\n",
      "\n",
      "         Datum  KielerWoche\n",
      "69  2019-06-28            1\n",
      "70  2019-06-29            1\n",
      "71  2019-06-30            1\n",
      "\n",
      "\n",
      "         Datum  KielerWoche\n",
      "22  2014-06-25            1\n",
      "4   2012-06-20            1\n",
      "54  2018-06-16            1\n",
      "35  2015-06-28            1\n",
      "10  2013-06-23            1\n",
      "\n",
      "\n",
      "<class 'pandas.core.frame.DataFrame'>\n",
      "RangeIndex: 72 entries, 0 to 71\n",
      "Data columns (total 2 columns):\n",
      " #   Column       Non-Null Count  Dtype \n",
      "---  ------       --------------  ----- \n",
      " 0   Datum        72 non-null     object\n",
      " 1   KielerWoche  72 non-null     int64 \n",
      "dtypes: int64(1), object(1)\n",
      "memory usage: 1.2+ KB\n"
     ]
    }
   ],
   "source": [
    "# load the kiwo dataset\n",
    "kiwo_data = pd.read_csv('../bakery_sales_data/kiwo.csv')\n",
    "\n",
    "# show some sample information to get an idea of the content\n",
    "print(kiwo_data.head(3))\n",
    "print(\"\\n\")\n",
    "print(kiwo_data.tail(3))\n",
    "print(\"\\n\")\n",
    "print(kiwo_data.sample(5))\n",
    "print(\"\\n\")\n",
    "kiwo_data.info()"
   ]
  },
  {
   "cell_type": "markdown",
   "metadata": {},
   "source": [
    "## Additional data binary ???\n",
    "- Feiertage \n",
    "- Wahltage\n",
    "- Schulferien\n",
    "- Wochentage"
   ]
  },
  {
   "cell_type": "code",
   "execution_count": 114,
   "metadata": {},
   "outputs": [
    {
     "name": "stdout",
     "output_type": "stream",
     "text": [
      "          Datum  HolyCode  SchholCode  BinHoly  BinSchhol  BinElec  DayOfWeek  \\\n",
      "0    2012-01-01         0           0        0          0        0     Sunday   \n",
      "1    2012-01-02         0           0        0          0        0     Monday   \n",
      "2    2012-01-03         0           0        0          0        0    Tuesday   \n",
      "3    2012-01-04         0           0        0          0        0  Wednesday   \n",
      "4    2012-01-05         0           0        0          0        0   Thursday   \n",
      "...         ...       ...         ...      ...        ...      ...        ...   \n",
      "2765 2019-07-28         0           0        0          0        0     Sunday   \n",
      "2766 2019-07-29         0           0        0          0        0     Monday   \n",
      "2767 2019-07-30         0           0        0          0        0    Tuesday   \n",
      "2768 2019-07-31         0           0        0          0        0  Wednesday   \n",
      "2769 2019-08-01         0           0        0          0        0   Thursday   \n",
      "\n",
      "      weekend  \n",
      "0           1  \n",
      "1           0  \n",
      "2           0  \n",
      "3           0  \n",
      "4           0  \n",
      "...       ...  \n",
      "2765        1  \n",
      "2766        0  \n",
      "2767        0  \n",
      "2768        0  \n",
      "2769        0  \n",
      "\n",
      "[2770 rows x 8 columns]\n"
     ]
    }
   ],
   "source": [
    "# load datasets\n",
    "holyday_data = pd.read_csv('../bakery_sales_data/feiertage_sh.csv')\n",
    "schhol_data = pd.read_csv('../bakery_sales_data/schulferien.csv')\n",
    "elec_data = pd.read_csv('../bakery_sales_data/wahltage.csv')\n",
    "\n",
    "# change data type of Datum\n",
    "# change data type of Datum with specified format\n",
    "holyday_data['Datum'] = pd.to_datetime(holyday_data['Datum'], format='%d.%m.%Y')\n",
    "schhol_data['Datum'] = pd.to_datetime(schhol_data['Datum'])\n",
    "elec_data['Datum'] = pd.to_datetime(elec_data['Datum'], format='%m/%d/%Y')\n",
    "\n",
    "# start and end date for data frame\n",
    "start_date = '2012-01-01'\n",
    "end_date = '2019-08-01'\n",
    "\n",
    "# pre-data frame\n",
    "full_time_series = pd.date_range(start=start_date, end=end_date, freq='D')\n",
    "pre_data = pd.DataFrame(full_time_series, columns=['Datum'])\n",
    "pre_data = pre_data.merge(holyday_data, on='Datum', how='left')\\\n",
    "    .merge(schhol_data, on='Datum', how='left')\\\n",
    "    .merge(elec_data, on='Datum', how='left')\\\n",
    "\n",
    "# dictionary holyday code\n",
    "feiertage_dict = {\n",
    "    'Neujahr': 1,\n",
    "    'Karfreitag': 2,\n",
    "    'Ostermontag': 3,\n",
    "    'Maifeiertag': 4,\n",
    "    'Christi Himmelfahrt': 5,\n",
    "    'Pfingstmontag': 6,\n",
    "    'Tag der Deutschen Einheit': 7,\n",
    "    '1. Weihnachtstag': 8,\n",
    "    '2. Weihnachtstag': 9\n",
    "}\n",
    "\n",
    "# dictionary school holyday code\n",
    "holyday_dict = {\n",
    "    'Sommerferien': 1,\n",
    "    'Keine Ferien': 0,\n",
    "    'Herbstferien': 2,\n",
    "    'Weihnachtsferien': 3,\n",
    "    'Osterferien': 4,\n",
    "    'Pfingsten': 0\n",
    "}\n",
    "\n",
    "# mapping-function\n",
    "def map_holyday_to_code(feiertag):\n",
    "    return feiertage_dict.get(feiertag, 0)  \n",
    "\n",
    "# mapping-function\n",
    "def map_schoolhol_to_code(ferientag):\n",
    "    return holyday_dict.get(ferientag, 0)  \n",
    "\n",
    "# HolyCode/Schhol = numeric code, BinHoly = binary holydays 0 = no, 1 = yes\n",
    "pre_data['HolyCode'] = pre_data['Feiertag'].apply(map_holyday_to_code)\n",
    "pre_data['SchholCode'] = pre_data['Ferien'].apply(map_schoolhol_to_code)\n",
    "pre_data['BinHoly'] = (pre_data['HolyCode'] != 0).astype(int)\n",
    "pre_data['BinSchhol'] = (pre_data['SchholCode'] != 0).astype(int)\n",
    "pre_data['BinElec'] = pre_data['Wahl'].apply(lambda x: 0 if pd.isnull(x) else 1)\n",
    "# delete \n",
    "pre_data.drop(columns=['Feiertag', 'Ferien', 'Wahl'], inplace=True)\n",
    "\n",
    "# add day of week\n",
    "pre_data['DayOfWeek'] = pre_data['Datum'].dt.day_name()\n",
    "# dictonary\n",
    "weekend_dict = {\n",
    "    'Saturday': 1,\n",
    "    'Sunday': 1,\n",
    "    'Monday': 0,\n",
    "    'Tuesday': 0,\n",
    "    'Wednesday': 0,\n",
    "    'Thursday': 0,\n",
    "    'Freiday': 0\n",
    "}\n",
    "# function \n",
    "def map_days_to_code(wdays):\n",
    "    return weekend_dict.get(wdays, 0) \n",
    "\n",
    "# new row weekend\n",
    "pre_data['weekend'] = pre_data['DayOfWeek'].apply(map_days_to_code)\n",
    "\n",
    "print(pre_data)"
   ]
  },
  {
   "cell_type": "markdown",
   "metadata": {},
   "source": [
    "### Analysis of the content\n",
    "The dates list the days on which the \"Kieler Woche\", a major local event, took place."
   ]
  },
  {
   "cell_type": "markdown",
   "metadata": {},
   "source": [
    "## Merge of the three datasets\n",
    "We will use sales data as base table and left join wetherdata and kiwo data together."
   ]
  },
  {
   "cell_type": "markdown",
   "metadata": {},
   "source": [
    "### Changed a bit the code (Anna)\n",
    "### Data preparation for merging\n",
    "wetter.csv: start = 2012-01-01, end = 2019-08-01\n",
    "kiwo.csv:   start = 2012-06-16, end = 2019-06-30\n",
    "umsatz.csv: start = 2013-07-01. end = 2017-12-27"
   ]
  },
  {
   "cell_type": "code",
   "execution_count": 115,
   "metadata": {},
   "outputs": [
    {
     "name": "stdout",
     "output_type": "stream",
     "text": [
      "       Datum  Warengruppe      Umsatz Bewoelkung Temperatur  \\\n",
      "0 2013-07-01            1  148.828353        6.0    17.8375   \n",
      "1 2013-07-02            1  159.793757        3.0    17.3125   \n",
      "2 2013-07-03            1  111.885594        7.0     21.075   \n",
      "\n",
      "  Windgeschwindigkeit Wettercode  KielerWoche  HolyCode  SchholCode  BinHoly  \\\n",
      "0                15.0       20.0            0         0           1        0   \n",
      "1                10.0        NaN            0         0           1        0   \n",
      "2                 6.0       61.0            0         0           1        0   \n",
      "\n",
      "   BinSchhol  BinElec  DayOfWeek  weekend  \n",
      "0          1        0     Monday        0  \n",
      "1          1        0    Tuesday        0  \n",
      "2          1        0  Wednesday        0  \n",
      "\n",
      "\n",
      "          Datum  Warengruppe     Umsatz Bewoelkung Temperatur  \\\n",
      "9331 2017-12-23            6  84.062223        7.0        7.8   \n",
      "9332 2017-12-24            6  60.981969        7.0     8.1125   \n",
      "9333 2017-12-27            6  34.972644        7.0     4.6125   \n",
      "\n",
      "     Windgeschwindigkeit Wettercode  KielerWoche  HolyCode  SchholCode  \\\n",
      "9331                19.0       61.0            0         0           3   \n",
      "9332                16.0       61.0            0         0           3   \n",
      "9333                 7.0       21.0            0         0           3   \n",
      "\n",
      "      BinHoly  BinSchhol  BinElec  DayOfWeek  weekend  \n",
      "9331        0          1        0   Saturday        1  \n",
      "9332        0          1        0     Sunday        1  \n",
      "9333        0          1        0  Wednesday        0  \n",
      "\n",
      "\n",
      "          Datum  Warengruppe      Umsatz Bewoelkung Temperatur  \\\n",
      "3758 2013-10-29            3  140.485739        7.0     10.775   \n",
      "1395 2017-05-25            1   83.928223        2.0     18.875   \n",
      "2133 2014-05-19            2  385.830427        6.0    13.7625   \n",
      "7481 2014-03-20            5  277.253331        0.0    16.2625   \n",
      "1746 2018-05-19            1  169.221578        6.0    14.9125   \n",
      "\n",
      "     Windgeschwindigkeit Wettercode  KielerWoche  HolyCode  SchholCode  \\\n",
      "3758                17.0       63.0            0         0           0   \n",
      "1395                12.0        NaN            0         5           0   \n",
      "2133                 8.0       61.0            0         0           0   \n",
      "7481                13.0        NaN            0         0           0   \n",
      "1746                 8.0        0.0            0         0           0   \n",
      "\n",
      "      BinHoly  BinSchhol  BinElec DayOfWeek  weekend  \n",
      "3758        0          0        0   Tuesday        0  \n",
      "1395        1          0        0  Thursday        0  \n",
      "2133        0          0        0    Monday        0  \n",
      "7481        0          0        0  Thursday        0  \n",
      "1746        0          0        0  Saturday        1  \n",
      "\n",
      "\n",
      "<class 'pandas.core.frame.DataFrame'>\n",
      "RangeIndex: 9334 entries, 0 to 9333\n",
      "Data columns (total 15 columns):\n",
      " #   Column               Non-Null Count  Dtype         \n",
      "---  ------               --------------  -----         \n",
      " 0   Datum                9334 non-null   datetime64[ns]\n",
      " 1   Warengruppe          9334 non-null   int64         \n",
      " 2   Umsatz               9334 non-null   float64       \n",
      " 3   Bewoelkung           9334 non-null   object        \n",
      " 4   Temperatur           9334 non-null   object        \n",
      " 5   Windgeschwindigkeit  9334 non-null   object        \n",
      " 6   Wettercode           9334 non-null   object        \n",
      " 7   KielerWoche          9334 non-null   int32         \n",
      " 8   HolyCode             9334 non-null   int64         \n",
      " 9   SchholCode           9334 non-null   int64         \n",
      " 10  BinHoly              9334 non-null   int32         \n",
      " 11  BinSchhol            9334 non-null   int32         \n",
      " 12  BinElec              9334 non-null   int64         \n",
      " 13  DayOfWeek            9334 non-null   object        \n",
      " 14  weekend              9334 non-null   int64         \n",
      "dtypes: datetime64[ns](1), float64(1), int32(3), int64(5), object(5)\n",
      "memory usage: 984.6+ KB\n"
     ]
    },
    {
     "name": "stderr",
     "output_type": "stream",
     "text": [
      "C:\\Users\\anna-\\AppData\\Local\\Temp\\ipykernel_30860\\992818040.py:17: FutureWarning: Setting an item of incompatible dtype is deprecated and will raise an error in a future version of pandas. Value 'NaN' has dtype incompatible with float64, please explicitly cast to a compatible dtype first.\n",
      "  bakery_sales_prediction_data.fillna('NaN', inplace=True)\n"
     ]
    }
   ],
   "source": [
    "# start and end date for data frame\n",
    "start_date = '2013-07-01'\n",
    "end_date = '2019-08-01'\n",
    "\n",
    "# change date format\n",
    "weather_data['Datum'] = pd.to_datetime(weather_data['Datum'])\n",
    "sales_data['Datum'] = pd.to_datetime(sales_data['Datum'])\n",
    "kiwo_data['Datum'] = pd.to_datetime(kiwo_data['Datum'])\n",
    "\n",
    "# pre-data frame\n",
    "full_time_series = pd.date_range(start=start_date, end=end_date, freq='D')\n",
    "bakery_sales_prediction_data = pd.DataFrame(full_time_series, columns=['Datum'])\n",
    "\n",
    "# left join of non-binary data and filling missing data with NA\n",
    "bakery_sales_prediction_data = sales_data.merge(weather_data, on='Datum', how='left')\n",
    "bakery_sales_prediction_data.fillna('NaN', inplace=True)\n",
    "\n",
    "# left join of binary data and filling missing with 0 = no, 1 = yes\n",
    "bakery_sales_prediction_data = bakery_sales_prediction_data.merge(kiwo_data, on='Datum', how='left')\\\n",
    "    .merge(pre_data, on='Datum', how='left')\n",
    "bakery_sales_prediction_data.fillna(0, inplace=True)\n",
    "bakery_sales_prediction_data['KielerWoche'] = bakery_sales_prediction_data['KielerWoche'].astype(int)\n",
    "\n",
    "# show sample data\n",
    "print(bakery_sales_prediction_data.head(3))\n",
    "print(\"\\n\")\n",
    "print(bakery_sales_prediction_data.tail(3))\n",
    "print(\"\\n\")\n",
    "print(bakery_sales_prediction_data.sample(5))\n",
    "print(\"\\n\")\n",
    "bakery_sales_prediction_data.info()"
   ]
  },
  {
   "cell_type": "markdown",
   "metadata": {},
   "source": [
    "Save bakery_sales_prediction_data as csv"
   ]
  },
  {
   "cell_type": "code",
   "execution_count": 116,
   "metadata": {},
   "outputs": [
    {
     "name": "stdout",
     "output_type": "stream",
     "text": [
      "DataFrame saved to ../bakery_sales_data/bakery_sales_prediction_data.csv\n"
     ]
    }
   ],
   "source": [
    "# set output path\n",
    "output_path = '../bakery_sales_data/bakery_sales_prediction_data.csv'\n",
    "\n",
    "# print as csv\n",
    "bakery_sales_prediction_data.to_csv(output_path, index=False)\n",
    "print(f'DataFrame saved to {output_path}')\n"
   ]
  }
 ],
 "metadata": {
  "kernelspec": {
   "display_name": "Python 3",
   "language": "python",
   "name": "python3"
  },
  "language_info": {
   "codemirror_mode": {
    "name": "ipython",
    "version": 3
   },
   "file_extension": ".py",
   "mimetype": "text/x-python",
   "name": "python",
   "nbconvert_exporter": "python",
   "pygments_lexer": "ipython3",
   "version": "3.10.13"
  }
 },
 "nbformat": 4,
 "nbformat_minor": 2
}
