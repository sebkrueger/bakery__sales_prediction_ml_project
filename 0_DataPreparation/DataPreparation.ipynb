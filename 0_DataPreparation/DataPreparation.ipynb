{
 "cells": [
  {
   "cell_type": "markdown",
   "metadata": {},
   "source": [
    "# Data Preparation\n",
    "\n",
    "In this step we read in the data set from different .csv files, have a look inot the data and merge them into on pandas dataframe."
   ]
  },
  {
   "cell_type": "code",
   "execution_count": 2,
   "metadata": {},
   "outputs": [],
   "source": [
    "# we will work with pandas\n",
    "import pandas as pd"
   ]
  },
  {
   "cell_type": "markdown",
   "metadata": {},
   "source": [
    "## Bakery sales data set"
   ]
  },
  {
   "cell_type": "code",
   "execution_count": 3,
   "metadata": {},
   "outputs": [
    {
     "name": "stdout",
     "output_type": "stream",
     "text": [
      "       Datum  Warengruppe      Umsatz\n",
      "0 2013-07-01            1  148.828353\n",
      "1 2013-07-02            1  159.793757\n",
      "2 2013-07-03            1  111.885594\n",
      "\n",
      "\n",
      "          Datum  Warengruppe     Umsatz\n",
      "9331 2017-12-23            6  84.062223\n",
      "9332 2017-12-24            6  60.981969\n",
      "9333 2017-12-27            6  34.972644\n",
      "\n",
      "\n",
      "          Datum  Warengruppe      Umsatz\n",
      "2585 2015-08-20            2  504.081148\n",
      "892  2015-12-24            1  195.399801\n",
      "9318 2017-12-10            6   94.149766\n",
      "4701 2016-06-17            3  111.578949\n",
      "1183 2016-10-19            1  110.217733\n",
      "\n",
      "\n",
      "<class 'pandas.core.frame.DataFrame'>\n",
      "RangeIndex: 9334 entries, 0 to 9333\n",
      "Data columns (total 3 columns):\n",
      " #   Column       Non-Null Count  Dtype         \n",
      "---  ------       --------------  -----         \n",
      " 0   Datum        9334 non-null   datetime64[ns]\n",
      " 1   Warengruppe  9334 non-null   int64         \n",
      " 2   Umsatz       9334 non-null   float64       \n",
      "dtypes: datetime64[ns](1), float64(1), int64(1)\n",
      "memory usage: 218.9 KB\n"
     ]
    }
   ],
   "source": [
    "# load the sales dataset\n",
    "sales_data = pd.read_csv('../bakery_sales_data/umsatzdaten_gekuerzt.csv')\n",
    "\n",
    "# change date format before merge to have same datatype on key\n",
    "sales_data['Datum'] = pd.to_datetime(sales_data['Datum'])\n",
    "\n",
    "# show some sample information to get an idea of the content\n",
    "print(sales_data.head(3))\n",
    "print(\"\\n\")\n",
    "print(sales_data.tail(3))\n",
    "print(\"\\n\")\n",
    "print(sales_data.sample(5))\n",
    "print(\"\\n\")\n",
    "sales_data.info()\n"
   ]
  },
  {
   "cell_type": "markdown",
   "metadata": {},
   "source": [
    "### Analysis of the content\n",
    "The data are sales figures, presumably in euros, broken down by product group and per day."
   ]
  },
  {
   "cell_type": "markdown",
   "metadata": {},
   "source": [
    "## Weather data"
   ]
  },
  {
   "cell_type": "code",
   "execution_count": 4,
   "metadata": {},
   "outputs": [
    {
     "name": "stdout",
     "output_type": "stream",
     "text": [
      "       Datum  Bewoelkung  Temperatur  Windgeschwindigkeit  Wettercode  \\\n",
      "0 2012-01-01         8.0      9.8250                   14        58.0   \n",
      "1 2012-01-02         7.0      7.4375                   12         NaN   \n",
      "2 2012-01-03         8.0      5.5375                   18        63.0   \n",
      "\n",
      "  Jahr_Monat  Durchschnittstemperatur  Temperature_Abweichung  \n",
      "0    2012-01                 3.395276                6.429724  \n",
      "1    2012-01                 3.395276                4.042224  \n",
      "2    2012-01                 3.395276                2.142224  \n",
      "\n",
      "\n",
      "          Datum  Bewoelkung  Temperatur  Windgeschwindigkeit  Wettercode  \\\n",
      "2598 2019-07-30         7.0     20.7375                    8        61.0   \n",
      "2599 2019-07-31         6.0     20.4500                    7        61.0   \n",
      "2600 2019-08-01         5.0     21.0625                    9        61.0   \n",
      "\n",
      "     Jahr_Monat  Durchschnittstemperatur  Temperature_Abweichung  \n",
      "2598    2019-07                19.852823                0.884677  \n",
      "2599    2019-07                19.852823                0.597177  \n",
      "2600    2019-08                21.062500                0.000000  \n",
      "\n",
      "\n",
      "          Datum  Bewoelkung  Temperatur  Windgeschwindigkeit  Wettercode  \\\n",
      "2556 2019-06-18         5.0     25.1125                    6        95.0   \n",
      "404  2013-07-11         0.0     21.3750                   12         5.0   \n",
      "734  2014-06-06         3.0     19.3125                   12         NaN   \n",
      "1002 2015-03-01         7.0      6.7500                   15        61.0   \n",
      "1580 2016-09-29         7.0     17.3750                   13        61.0   \n",
      "\n",
      "     Jahr_Monat  Durchschnittstemperatur  Temperature_Abweichung  \n",
      "2556    2019-06                20.826250                4.286250  \n",
      "404     2013-07                21.901210               -0.526210  \n",
      "734     2014-06                18.320417                0.992083  \n",
      "1002    2015-03                 7.487903               -0.737903  \n",
      "1580    2016-09                20.445833               -3.070833  \n",
      "\n",
      "\n",
      "<class 'pandas.core.frame.DataFrame'>\n",
      "RangeIndex: 2601 entries, 0 to 2600\n",
      "Data columns (total 8 columns):\n",
      " #   Column                   Non-Null Count  Dtype         \n",
      "---  ------                   --------------  -----         \n",
      " 0   Datum                    2601 non-null   datetime64[ns]\n",
      " 1   Bewoelkung               2591 non-null   float64       \n",
      " 2   Temperatur               2601 non-null   float64       \n",
      " 3   Windgeschwindigkeit      2601 non-null   int64         \n",
      " 4   Wettercode               1932 non-null   float64       \n",
      " 5   Jahr_Monat               2601 non-null   period[M]     \n",
      " 6   Durchschnittstemperatur  2601 non-null   float64       \n",
      " 7   Temperature_Abweichung   2601 non-null   float64       \n",
      "dtypes: datetime64[ns](1), float64(5), int64(1), period[M](1)\n",
      "memory usage: 162.7 KB\n"
     ]
    }
   ],
   "source": [
    "# load the weather dataset\n",
    "weather_data = pd.read_csv('../bakery_sales_data/wetter.csv')\n",
    "\n",
    "# change date format before merge to have same datatype on key\n",
    "weather_data['Datum'] = pd.to_datetime(weather_data['Datum'])\n",
    "\n",
    "# calculate and add mean temperature per month and deviation per day\n",
    "# extract month and year\n",
    "weather_data['Jahr_Monat'] = weather_data['Datum'].dt.to_period('M')\n",
    "\n",
    "# calulate mean temperature per month\n",
    "monthly_mean_temp = weather_data.groupby('Jahr_Monat')['Temperatur'].transform('mean')\n",
    "\n",
    "# add the mean temperature as extra colum\n",
    "weather_data['Durchschnittstemperatur'] = monthly_mean_temp\n",
    "\n",
    "weather_data['Temperature_Abweichung'] = weather_data['Temperatur'] - weather_data['Durchschnittstemperatur']\n",
    "\n",
    "\n",
    "# show some sample information to get an idea of the content\n",
    "print(weather_data.head(3))\n",
    "print(\"\\n\")\n",
    "print(weather_data.tail(3))\n",
    "print(\"\\n\")\n",
    "print(weather_data.sample(5))\n",
    "print(\"\\n\")\n",
    "weather_data.info()\n"
   ]
  },
  {
   "cell_type": "markdown",
   "metadata": {},
   "source": [
    "### Analysis of the content\n",
    "Each entry in the data represents weather observations for a specific day at a specific location."
   ]
  },
  {
   "cell_type": "markdown",
   "metadata": {},
   "source": [
    "# Kieler Woche data"
   ]
  },
  {
   "cell_type": "code",
   "execution_count": 5,
   "metadata": {},
   "outputs": [
    {
     "name": "stdout",
     "output_type": "stream",
     "text": [
      "       Datum  KielerWoche\n",
      "0 2012-06-16            1\n",
      "1 2012-06-17            1\n",
      "2 2012-06-18            1\n",
      "\n",
      "\n",
      "        Datum  KielerWoche\n",
      "69 2019-06-28            1\n",
      "70 2019-06-29            1\n",
      "71 2019-06-30            1\n",
      "\n",
      "\n",
      "        Datum  KielerWoche\n",
      "40 2016-06-22            1\n",
      "3  2012-06-19            1\n",
      "11 2013-06-24            1\n",
      "50 2017-06-22            1\n",
      "55 2018-06-17            1\n",
      "\n",
      "\n",
      "<class 'pandas.core.frame.DataFrame'>\n",
      "RangeIndex: 72 entries, 0 to 71\n",
      "Data columns (total 2 columns):\n",
      " #   Column       Non-Null Count  Dtype         \n",
      "---  ------       --------------  -----         \n",
      " 0   Datum        72 non-null     datetime64[ns]\n",
      " 1   KielerWoche  72 non-null     int64         \n",
      "dtypes: datetime64[ns](1), int64(1)\n",
      "memory usage: 1.2 KB\n"
     ]
    }
   ],
   "source": [
    "# load the kiwo dataset\n",
    "kiwo_data = pd.read_csv('../bakery_sales_data/kiwo.csv')\n",
    "\n",
    "# change date format before merge to have same datatype on key\n",
    "kiwo_data['Datum'] = pd.to_datetime(kiwo_data['Datum'])\n",
    "\n",
    "# show some sample information to get an idea of the content\n",
    "print(kiwo_data.head(3))\n",
    "print(\"\\n\")\n",
    "print(kiwo_data.tail(3))\n",
    "print(\"\\n\")\n",
    "print(kiwo_data.sample(5))\n",
    "print(\"\\n\")\n",
    "kiwo_data.info()"
   ]
  },
  {
   "cell_type": "markdown",
   "metadata": {},
   "source": [
    "## Additional data binary (0/1)\n",
    "- Feiertage \n",
    "- Wahltage\n",
    "- Schulferien\n",
    "- Wochentage"
   ]
  },
  {
   "cell_type": "code",
   "execution_count": 6,
   "metadata": {},
   "outputs": [
    {
     "name": "stdout",
     "output_type": "stream",
     "text": [
      "          Datum  HolyCode  SchholCode  BinHoly  BinSchhol  BinElec  DayOfWeek  \\\n",
      "0    2012-01-01         0           0        0          0        0     Sunday   \n",
      "1    2012-01-02         0           0        0          0        0     Monday   \n",
      "2    2012-01-03         0           0        0          0        0    Tuesday   \n",
      "3    2012-01-04         0           0        0          0        0  Wednesday   \n",
      "4    2012-01-05         0           0        0          0        0   Thursday   \n",
      "...         ...       ...         ...      ...        ...      ...        ...   \n",
      "2765 2019-07-28         0           0        0          0        0     Sunday   \n",
      "2766 2019-07-29         0           0        0          0        0     Monday   \n",
      "2767 2019-07-30         0           0        0          0        0    Tuesday   \n",
      "2768 2019-07-31         0           0        0          0        0  Wednesday   \n",
      "2769 2019-08-01         0           0        0          0        0   Thursday   \n",
      "\n",
      "      weekend  \n",
      "0           1  \n",
      "1           0  \n",
      "2           0  \n",
      "3           0  \n",
      "4           0  \n",
      "...       ...  \n",
      "2765        1  \n",
      "2766        0  \n",
      "2767        0  \n",
      "2768        0  \n",
      "2769        0  \n",
      "\n",
      "[2770 rows x 8 columns]\n"
     ]
    }
   ],
   "source": [
    "# load datasets\n",
    "holyday_data = pd.read_csv('../bakery_sales_data/feiertage_sh.csv')\n",
    "schhol_data = pd.read_csv('../bakery_sales_data/schulferien.csv')\n",
    "elec_data = pd.read_csv('../bakery_sales_data/wahltage.csv')\n",
    "\n",
    "# change data type of Datum with specified format\n",
    "holyday_data['Datum'] = pd.to_datetime(holyday_data['Datum'], format='%d.%m.%Y')\n",
    "schhol_data['Datum'] = pd.to_datetime(schhol_data['Datum'])\n",
    "elec_data['Datum'] = pd.to_datetime(elec_data['Datum'], format='%m/%d/%Y')\n",
    "\n",
    "# start and end date for data frame\n",
    "start_date = '2012-01-01'\n",
    "end_date = '2019-08-01'\n",
    "\n",
    "# pre-data frame\n",
    "full_time_series = pd.date_range(start=start_date, end=end_date, freq='D')\n",
    "pre_data = pd.DataFrame(full_time_series, columns=['Datum'])\n",
    "pre_data = pre_data.merge(holyday_data, on='Datum', how='left')\\\n",
    "    .merge(schhol_data, on='Datum', how='left')\\\n",
    "    .merge(elec_data, on='Datum', how='left')\\\n",
    "\n",
    "# dictionary holyday code\n",
    "feiertage_dict = {\n",
    "    'Neujahr': 1,\n",
    "    'Karfreitag': 2,\n",
    "    'Ostermontag': 3,\n",
    "    'Maifeiertag': 4,\n",
    "    'Christi Himmelfahrt': 5,\n",
    "    'Pfingstmontag': 6,\n",
    "    'Tag der Deutschen Einheit': 7,\n",
    "    '1. Weihnachtstag': 8,\n",
    "    '2. Weihnachtstag': 9\n",
    "}\n",
    "\n",
    "# dictionary school holyday code\n",
    "holyday_dict = {\n",
    "    'Sommerferien': 1,\n",
    "    'Keine Ferien': 0,\n",
    "    'Herbstferien': 2,\n",
    "    'Weihnachtsferien': 3,\n",
    "    'Osterferien': 4,\n",
    "    'Pfingsten': 0\n",
    "}\n",
    "\n",
    "# mapping-function\n",
    "def map_holyday_to_code(feiertag):\n",
    "    return feiertage_dict.get(feiertag, 0)  \n",
    "\n",
    "# mapping-function\n",
    "def map_schoolhol_to_code(ferientag):\n",
    "    return holyday_dict.get(ferientag, 0)  \n",
    "\n",
    "# HolyCode/Schhol = numeric code, BinHoly = binary holydays 0 = no, 1 = yes\n",
    "pre_data['HolyCode'] = pre_data['Feiertag'].apply(map_holyday_to_code)\n",
    "pre_data['SchholCode'] = pre_data['Ferien'].apply(map_schoolhol_to_code)\n",
    "pre_data['BinHoly'] = (pre_data['HolyCode'] != 0).astype(int)\n",
    "pre_data['BinSchhol'] = (pre_data['SchholCode'] != 0).astype(int)\n",
    "pre_data['BinElec'] = pre_data['Wahl'].apply(lambda x: 0 if pd.isnull(x) else 1)\n",
    "# delete \n",
    "pre_data.drop(columns=['Feiertag', 'Ferien', 'Wahl'], inplace=True)\n",
    "\n",
    "# add day of week\n",
    "pre_data['DayOfWeek'] = pre_data['Datum'].dt.day_name()\n",
    "# dictonary\n",
    "weekend_dict = {\n",
    "    'Saturday': 1,\n",
    "    'Sunday': 1,\n",
    "    'Monday': 0,\n",
    "    'Tuesday': 0,\n",
    "    'Wednesday': 0,\n",
    "    'Thursday': 0,\n",
    "    'Freiday': 0\n",
    "}\n",
    "# function \n",
    "def map_days_to_code(wdays):\n",
    "    return weekend_dict.get(wdays, 0) \n",
    "\n",
    "# new row weekend\n",
    "pre_data['weekend'] = pre_data['DayOfWeek'].apply(map_days_to_code)\n",
    "\n",
    "print(pre_data)"
   ]
  },
  {
   "cell_type": "markdown",
   "metadata": {},
   "source": [
    "### Analysis of the content\n",
    "The dates list the days on which the \"Kieler Woche\", a major local event, took place."
   ]
  },
  {
   "cell_type": "markdown",
   "metadata": {},
   "source": [
    "## Merge of the three datasets\n",
    "We will use sales data as base table and left join wetherdata and kiwo data together."
   ]
  },
  {
   "cell_type": "markdown",
   "metadata": {},
   "source": [
    "### Data preparation for merging\n",
    "wetter.csv: start = 2012-01-01, end = 2019-08-01\n",
    "kiwo.csv:   start = 2012-06-16, end = 2019-06-30\n",
    "umsatz.csv: start = 2013-07-01. end = 2017-12-27"
   ]
  },
  {
   "cell_type": "code",
   "execution_count": 7,
   "metadata": {},
   "outputs": [
    {
     "name": "stdout",
     "output_type": "stream",
     "text": [
      "       Datum  Warengruppe      Umsatz Bewoelkung Temperatur  \\\n",
      "0 2013-07-01            1  148.828353        6.0    17.8375   \n",
      "1 2013-07-02            1  159.793757        3.0    17.3125   \n",
      "2 2013-07-03            1  111.885594        7.0     21.075   \n",
      "\n",
      "  Windgeschwindigkeit Wettercode Jahr_Monat Durchschnittstemperatur  \\\n",
      "0                15.0       20.0    2013-07                21.90121   \n",
      "1                10.0        NaN    2013-07                21.90121   \n",
      "2                 6.0       61.0    2013-07                21.90121   \n",
      "\n",
      "  Temperature_Abweichung  KielerWoche  HolyCode  SchholCode  BinHoly  \\\n",
      "0               -4.06371            0         0           1        0   \n",
      "1               -4.58871            0         0           1        0   \n",
      "2               -0.82621            0         0           1        0   \n",
      "\n",
      "   BinSchhol  BinElec  DayOfWeek  weekend  \n",
      "0          1        0     Monday        0  \n",
      "1          1        0    Tuesday        0  \n",
      "2          1        0  Wednesday        0  \n",
      "\n",
      "\n",
      "          Datum  Warengruppe     Umsatz Bewoelkung Temperatur  \\\n",
      "9331 2017-12-23            6  84.062223        7.0        7.8   \n",
      "9332 2017-12-24            6  60.981969        7.0     8.1125   \n",
      "9333 2017-12-27            6  34.972644        7.0     4.6125   \n",
      "\n",
      "     Windgeschwindigkeit Wettercode Jahr_Monat Durchschnittstemperatur  \\\n",
      "9331                19.0       61.0    2017-12                4.604032   \n",
      "9332                16.0       61.0    2017-12                4.604032   \n",
      "9333                 7.0       21.0    2017-12                4.604032   \n",
      "\n",
      "     Temperature_Abweichung  KielerWoche  HolyCode  SchholCode  BinHoly  \\\n",
      "9331               3.195968            0         0           3        0   \n",
      "9332               3.508468            0         0           3        0   \n",
      "9333               0.008468            0         0           3        0   \n",
      "\n",
      "      BinSchhol  BinElec  DayOfWeek  weekend  \n",
      "9331          1        0   Saturday        1  \n",
      "9332          1        0     Sunday        1  \n",
      "9333          1        0  Wednesday        0  \n",
      "\n",
      "\n",
      "          Datum  Warengruppe      Umsatz Bewoelkung Temperatur  \\\n",
      "5027 2017-05-19            3  122.084205        6.0     17.375   \n",
      "7434 2014-02-01            5  290.121392        7.0      3.225   \n",
      "5147 2017-09-17            3  195.774733        7.0      15.25   \n",
      "3932 2014-04-26            3  199.626205        0.0      15.45   \n",
      "4485 2015-11-09            3  106.911758        5.0       12.0   \n",
      "\n",
      "     Windgeschwindigkeit Wettercode Jahr_Monat Durchschnittstemperatur  \\\n",
      "5027                 7.0       21.0    2017-05               16.157258   \n",
      "7434                10.0       63.0    2014-02                6.933929   \n",
      "5147                 7.0       61.0    2017-09               16.047917   \n",
      "3932                11.0        NaN    2014-04                    11.9   \n",
      "4485                15.0       21.0    2015-11                  9.0375   \n",
      "\n",
      "     Temperature_Abweichung  KielerWoche  HolyCode  SchholCode  BinHoly  \\\n",
      "5027               1.217742            0         0           0        0   \n",
      "7434              -3.708929            0         0           0        0   \n",
      "5147              -0.797917            0         0           0        0   \n",
      "3932                   3.55            0         0           4        0   \n",
      "4485                 2.9625            0         0           0        0   \n",
      "\n",
      "      BinSchhol  BinElec DayOfWeek  weekend  \n",
      "5027          0        0    Friday        0  \n",
      "7434          0        0  Saturday        1  \n",
      "5147          0        0    Sunday        1  \n",
      "3932          1        0  Saturday        1  \n",
      "4485          0        0    Monday        0  \n",
      "\n",
      "\n",
      "<class 'pandas.core.frame.DataFrame'>\n",
      "RangeIndex: 9334 entries, 0 to 9333\n",
      "Data columns (total 18 columns):\n",
      " #   Column                   Non-Null Count  Dtype         \n",
      "---  ------                   --------------  -----         \n",
      " 0   Datum                    9334 non-null   datetime64[ns]\n",
      " 1   Warengruppe              9334 non-null   int64         \n",
      " 2   Umsatz                   9334 non-null   float64       \n",
      " 3   Bewoelkung               9334 non-null   object        \n",
      " 4   Temperatur               9334 non-null   object        \n",
      " 5   Windgeschwindigkeit      9334 non-null   object        \n",
      " 6   Wettercode               9334 non-null   object        \n",
      " 7   Jahr_Monat               9334 non-null   object        \n",
      " 8   Durchschnittstemperatur  9334 non-null   object        \n",
      " 9   Temperature_Abweichung   9334 non-null   object        \n",
      " 10  KielerWoche              9334 non-null   int64         \n",
      " 11  HolyCode                 9334 non-null   int64         \n",
      " 12  SchholCode               9334 non-null   int64         \n",
      " 13  BinHoly                  9334 non-null   int64         \n",
      " 14  BinSchhol                9334 non-null   int64         \n",
      " 15  BinElec                  9334 non-null   int64         \n",
      " 16  DayOfWeek                9334 non-null   object        \n",
      " 17  weekend                  9334 non-null   int64         \n",
      "dtypes: datetime64[ns](1), float64(1), int64(8), object(8)\n",
      "memory usage: 1.3+ MB\n"
     ]
    },
    {
     "name": "stderr",
     "output_type": "stream",
     "text": [
      "/tmp/ipykernel_18202/2656741510.py:11: FutureWarning: Setting an item of incompatible dtype is deprecated and will raise an error in a future version of pandas. Value 'NaN' has dtype incompatible with float64, please explicitly cast to a compatible dtype first.\n",
      "  bakery_sales_prediction_data.fillna('NaN', inplace=True)\n",
      "/tmp/ipykernel_18202/2656741510.py:16: FutureWarning: Setting an item of incompatible dtype is deprecated and will raise an error in a future version of pandas. Value '0' has dtype incompatible with period[M], please explicitly cast to a compatible dtype first.\n",
      "  bakery_sales_prediction_data.fillna(0, inplace=True)\n"
     ]
    }
   ],
   "source": [
    "# start and end date for data frame\n",
    "start_date = '2013-07-01'\n",
    "end_date = '2019-08-01'\n",
    "\n",
    "# pre-data frame to set date range\n",
    "full_time_series = pd.date_range(start=start_date, end=end_date, freq='D')\n",
    "bakery_sales_prediction_data = pd.DataFrame(full_time_series, columns=['Datum'])\n",
    "\n",
    "# left join of non-binary data and filling missing data with NaN\n",
    "bakery_sales_prediction_data = sales_data.merge(weather_data, on='Datum', how='left')\n",
    "bakery_sales_prediction_data.fillna('NaN', inplace=True)\n",
    "\n",
    "# left join of binary data for kiwo and other events and filling missing with 0 = no, 1 = yes\n",
    "bakery_sales_prediction_data = bakery_sales_prediction_data.merge(kiwo_data, on='Datum', how='left')\\\n",
    "    .merge(pre_data, on='Datum', how='left')\n",
    "bakery_sales_prediction_data.fillna(0, inplace=True)\n",
    "bakery_sales_prediction_data['KielerWoche'] = bakery_sales_prediction_data['KielerWoche'].astype(int)\n",
    "\n",
    "# show sample data\n",
    "print(bakery_sales_prediction_data.head(3))\n",
    "print(\"\\n\")\n",
    "print(bakery_sales_prediction_data.tail(3))\n",
    "print(\"\\n\")\n",
    "print(bakery_sales_prediction_data.sample(5))\n",
    "print(\"\\n\")\n",
    "bakery_sales_prediction_data.info()"
   ]
  },
  {
   "cell_type": "markdown",
   "metadata": {},
   "source": [
    "Save bakery_sales_prediction_data as Pickle File to preserve datatypes and could later easy import file as input for the models"
   ]
  },
  {
   "cell_type": "code",
   "execution_count": 8,
   "metadata": {},
   "outputs": [
    {
     "name": "stdout",
     "output_type": "stream",
     "text": [
      "DataFrame saved to ../bakery_sales_data/bakery_sales_prediction_data.pkl\n"
     ]
    }
   ],
   "source": [
    "# set output path\n",
    "output_path = '../bakery_sales_data/bakery_sales_prediction_data.pkl'\n",
    "\n",
    "# print as csv\n",
    "bakery_sales_prediction_data.to_pickle(output_path)\n",
    "print(f'DataFrame saved to {output_path}')\n"
   ]
  }
 ],
 "metadata": {
  "kernelspec": {
   "display_name": "Python 3",
   "language": "python",
   "name": "python3"
  },
  "language_info": {
   "codemirror_mode": {
    "name": "ipython",
    "version": 3
   },
   "file_extension": ".py",
   "mimetype": "text/x-python",
   "name": "python",
   "nbconvert_exporter": "python",
   "pygments_lexer": "ipython3",
   "version": "3.10.13"
  }
 },
 "nbformat": 4,
 "nbformat_minor": 2
}
