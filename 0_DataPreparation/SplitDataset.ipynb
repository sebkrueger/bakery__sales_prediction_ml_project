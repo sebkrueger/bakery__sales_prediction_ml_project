{
 "cells": [
  {
   "cell_type": "markdown",
   "metadata": {},
   "source": [
    "# Split the full dataset \n",
    "\n",
    "- Trainingsset from 01.07.2013 until 31.07.2017\n",
    "- Valididationset from 01.08.2017 until 31.07.2018.\n",
    "- Testdataset from 01.08.2018 until 30.07.2019 (for later calculate predictions and upload results to kaggle)"
   ]
  },
  {
   "cell_type": "code",
   "execution_count": 1,
   "metadata": {},
   "outputs": [],
   "source": [
    "import pandas as pd\n",
    "\n",
    "# print as csv\n",
    "bakery_sales_full_data = pd.read_pickle('../exported_data/bakery_sales_full_data.pkl')\n",
    "\n",
    "# define dateranges\n",
    "train_start_date = '2013-07-01'\n",
    "train_end_date = '2017-07-31'\n",
    "val_start_date = '2017-08-01'\n",
    "val_end_date = '2018-07-31'\n",
    "test_start_date = '2018-08-01'\n",
    "test_end_date = '2019-07-30'\n",
    "\n",
    "# filter data \n",
    "train_set = bakery_sales_full_data[(bakery_sales_full_data['Datum'] >= train_start_date) & (bakery_sales_full_data['Datum'] <= train_end_date)]\n",
    "validation_set = bakery_sales_full_data[(bakery_sales_full_data['Datum'] >= val_start_date) & (bakery_sales_full_data['Datum'] <= val_end_date)]\n",
    "test_set = bakery_sales_full_data[(bakery_sales_full_data['Datum'] >= test_start_date) & (bakery_sales_full_data['Datum'] <= test_end_date)]\n",
    "\n",
    "# drop Umsatz and Warengruppe from testset, we add and calcualte them later again and prevent overlapping\n",
    "test_set = test_set.drop(columns=['Umsatz', 'Warengruppe'])\n",
    "\n",
    "# prepare testset to predict only needed values based on test.csv\n",
    "kaggle_test_data = pd.read_csv('../testdata/test.csv')\n",
    "\n",
    "# change date format before merge to have same datatype on key\n",
    "kaggle_test_data['Datum'] = pd.to_datetime(kaggle_test_data['Datum'])\n",
    "\n",
    "# merge to only get the needed rows of data and add Warengruppe to testset\n",
    "kaggle_test_data = kaggle_test_data.merge(test_set, on='Datum', how='left')\n",
    "\n",
    "# store the results\n",
    "train_set.to_pickle('../train_val_test_data/train_set.pkl')\n",
    "validation_set.to_pickle('../train_val_test_data/validation_set.pkl')\n",
    "kaggle_test_data.to_pickle('../train_val_test_data/test_set.pkl')"
   ]
  }
 ],
 "metadata": {
  "kernelspec": {
   "display_name": "Python 3",
   "language": "python",
   "name": "python3"
  },
  "language_info": {
   "codemirror_mode": {
    "name": "ipython",
    "version": 3
   },
   "file_extension": ".py",
   "mimetype": "text/x-python",
   "name": "python",
   "nbconvert_exporter": "python",
   "pygments_lexer": "ipython3",
   "version": "3.10.13"
  }
 },
 "nbformat": 4,
 "nbformat_minor": 2
}
