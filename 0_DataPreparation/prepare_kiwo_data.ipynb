{
 "cells": [
  {
   "cell_type": "markdown",
   "metadata": {},
   "source": [
    "# Prepare of Kieler Woche data\n",
    "\n",
    "Dates of the \"Kieler Woche\" for the years 2013 to 2019.\n",
    "These 10 days each year have a significant effect on the bakery sales in Kiel."
   ]
  },
  {
   "cell_type": "code",
   "execution_count": 1,
   "metadata": {},
   "outputs": [
    {
     "name": "stdout",
     "output_type": "stream",
     "text": [
      "       Datum  KielerWoche\n",
      "0 2012-06-16            1\n",
      "1 2012-06-17            1\n",
      "2 2012-06-18            1\n",
      "\n",
      "\n",
      "        Datum  KielerWoche\n",
      "69 2019-06-28            1\n",
      "70 2019-06-29            1\n",
      "71 2019-06-30            1\n",
      "\n",
      "\n",
      "        Datum  KielerWoche\n",
      "44 2016-06-26            1\n",
      "54 2018-06-16            1\n",
      "30 2015-06-23            1\n",
      "57 2018-06-19            1\n",
      "52 2017-06-24            1\n",
      "\n",
      "\n",
      "<class 'pandas.core.frame.DataFrame'>\n",
      "RangeIndex: 72 entries, 0 to 71\n",
      "Data columns (total 2 columns):\n",
      " #   Column       Non-Null Count  Dtype         \n",
      "---  ------       --------------  -----         \n",
      " 0   Datum        72 non-null     datetime64[ns]\n",
      " 1   KielerWoche  72 non-null     int64         \n",
      "dtypes: datetime64[ns](1), int64(1)\n",
      "memory usage: 1.2 KB\n",
      "          Datum  KielerWoche\n",
      "1747 2018-04-13            0\n",
      "2198 2019-07-08            0\n",
      "185  2014-01-02            0\n",
      "1837 2018-07-12            0\n",
      "1983 2018-12-05            0\n",
      "416  2014-08-21            0\n",
      "1362 2017-03-24            0\n",
      "2030 2019-01-21            0\n",
      "1014 2016-04-10            0\n",
      "638  2015-03-31            0\n",
      "\n",
      "\n",
      "<class 'pandas.core.frame.DataFrame'>\n",
      "RangeIndex: 2223 entries, 0 to 2222\n",
      "Data columns (total 2 columns):\n",
      " #   Column       Non-Null Count  Dtype         \n",
      "---  ------       --------------  -----         \n",
      " 0   Datum        2223 non-null   datetime64[ns]\n",
      " 1   KielerWoche  2223 non-null   int64         \n",
      "dtypes: datetime64[ns](1), int64(1)\n",
      "memory usage: 34.9 KB\n"
     ]
    }
   ],
   "source": [
    "import pandas as pd\n",
    "\n",
    "# load the kiwo dataset\n",
    "kiwo_data = pd.read_csv('../bakery_sales_data/kiwo.csv')\n",
    "\n",
    "# change date format before merge to have same datatype on key\n",
    "kiwo_data['Datum'] = pd.to_datetime(kiwo_data['Datum'])\n",
    "\n",
    "# show some sample information to get an idea of the content\n",
    "print(kiwo_data.head(3))\n",
    "print(\"\\n\")\n",
    "print(kiwo_data.tail(3))\n",
    "print(\"\\n\")\n",
    "print(kiwo_data.sample(5))\n",
    "print(\"\\n\")\n",
    "kiwo_data.info()\n",
    "\n",
    "# the dataset only “1” and days on which the KielerWoche took place.\n",
    "# we merge it with base dataframe and fill dates without KielerWoche with \"0\"\n",
    "base_dateranges = pd.read_pickle('../exported_data/base_dateranges_data.pkl')\n",
    "\n",
    "prepared_kiwo_data =  base_dateranges.merge(kiwo_data, on='Datum', how='left')\n",
    "\n",
    "# fill dates without KielerWoche created on merge with NaN with \"0\" and convert from float (because of NaN) to integer\n",
    "prepared_kiwo_data.fillna(0, inplace=True)\n",
    "prepared_kiwo_data['KielerWoche'] = prepared_kiwo_data['KielerWoche'].astype(int)\n",
    "\n",
    "print(prepared_kiwo_data.sample(10))\n",
    "print(\"\\n\")\n",
    "prepared_kiwo_data.info()\n",
    "\n",
    "# store the dataframe\n",
    "prepared_kiwo_data.to_pickle('../exported_data/prepared_kiwo_data.pkl')\n"
   ]
  }
 ],
 "metadata": {
  "kernelspec": {
   "display_name": "Python 3",
   "language": "python",
   "name": "python3"
  },
  "language_info": {
   "codemirror_mode": {
    "name": "ipython",
    "version": 3
   },
   "file_extension": ".py",
   "mimetype": "text/x-python",
   "name": "python",
   "nbconvert_exporter": "python",
   "pygments_lexer": "ipython3",
   "version": "3.10.13"
  }
 },
 "nbformat": 4,
 "nbformat_minor": 2
}
