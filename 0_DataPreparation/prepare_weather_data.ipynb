{
 "cells": [
  {
   "cell_type": "markdown",
   "metadata": {},
   "source": [
    "# Prepare of weather data\n",
    "\n",
    "Data set contains Weather data for Kiel from January 1, 2012 to August 1, 2019.\n",
    "\n",
    "    Datum : gives the date of the observed weather.\n",
    "    Bewoelkung : describes the cloud coverage. Check this site for more info on the values.\n",
    "    Temperature : gives the temperature in Celsius.\n",
    "    Windgeschwindigkeit : gives the wind speed in meters per second.\n",
    "    Wettercode : describes the type of weather. Check this site for more info on the values."
   ]
  },
  {
   "cell_type": "code",
   "execution_count": 1,
   "metadata": {},
   "outputs": [],
   "source": [
    "import pandas as pd\n",
    "\n",
    "# load the weather dataset\n",
    "weather_data = pd.read_csv('../bakery_sales_data/wetter.csv')\n",
    "\n",
    "# change date format before merge to have same datatype on key\n",
    "weather_data['Datum'] = pd.to_datetime(weather_data['Datum'])\n",
    "\n",
    "# normalize range to base dataset\n",
    "base_dateranges = pd.read_pickle('../exported_data/base_dateranges_data.pkl')\n",
    "\n",
    "prepared_weather_data =  base_dateranges.merge(weather_data, on='Datum', how='left')"
   ]
  },
  {
   "cell_type": "markdown",
   "metadata": {},
   "source": [
    "## Investigate date and find missing values\n"
   ]
  },
  {
   "cell_type": "code",
   "execution_count": null,
   "metadata": {},
   "outputs": [],
   "source": []
  },
  {
   "cell_type": "markdown",
   "metadata": {},
   "source": [
    "## "
   ]
  },
  {
   "cell_type": "markdown",
   "metadata": {},
   "source": [
    "## Calculate and group more columns\n",
    "\n",
    "- monthly_mean_temp_diff : The deviation of the daily temperature from the monthly mean temperature in degeree C \n",
    "- TODO: more to add!!!\n"
   ]
  },
  {
   "cell_type": "code",
   "execution_count": 3,
   "metadata": {},
   "outputs": [],
   "source": [
    "# calculate and add mean temperature per month and deviation per day\n",
    "# extract month and year\n",
    "prepared_weather_data['Jahr_Monat'] = prepared_weather_data['Datum'].dt.to_period('M')\n",
    "\n",
    "# calulate mean temperature per month\n",
    "monthly_mean_temp = prepared_weather_data.groupby('Jahr_Monat')['Temperatur'].transform('mean')\n",
    "\n",
    "# add the mean temperature as extra column\n",
    "prepared_weather_data['monthly_mean_temp'] = monthly_mean_temp\n",
    "\n",
    "# calculate the diff from month mean temp to temperature on day\n",
    "prepared_weather_data['monthly_mean_temp_diff'] = prepared_weather_data['Temperatur'] - prepared_weather_data['monthly_mean_temp']\n",
    "\n",
    "# store the prepared dataframe\n",
    "prepared_weather_data.to_pickle('../exported_data/prepared_weather_data.pkl')"
   ]
  }
 ],
 "metadata": {
  "kernelspec": {
   "display_name": "Python 3",
   "language": "python",
   "name": "python3"
  },
  "language_info": {
   "codemirror_mode": {
    "name": "ipython",
    "version": 3
   },
   "file_extension": ".py",
   "mimetype": "text/x-python",
   "name": "python",
   "nbconvert_exporter": "python",
   "pygments_lexer": "ipython3",
   "version": "3.10.13"
  }
 },
 "nbformat": 4,
 "nbformat_minor": 2
}
