{
 "cells": [
  {
   "cell_type": "markdown",
   "metadata": {},
   "source": [
    "# Prepare of Sales data\n",
    "\n",
    "Sales dataset contains \n",
    "\n",
    "    id : is a unique identifier for the recorded sales.\n",
    "    Datum : gives the date of the recorded sales.\n",
    "    Warengruppe : identifies the product categories according to following scheme:\n",
    "        1: Bread\n",
    "        2: Rolls\n",
    "        3: Croissant\n",
    "        4: Confectionery\n",
    "        5: Cake\n",
    "        6: Seasonal Bread\n",
    "    Umsatz : gives the total sales for a product category at a given date.\n",
    "    "
   ]
  },
  {
   "cell_type": "code",
   "execution_count": 6,
   "metadata": {},
   "outputs": [],
   "source": [
    "import pandas as pd\n",
    "\n",
    "# load the weather dataset\n",
    "sales_data = pd.read_csv('../bakery_sales_data/umsatzdaten_gekuerzt.csv')\n",
    "\n",
    "# change date format before merge to have same datatype on key\n",
    "sales_data['Datum'] = pd.to_datetime(sales_data['Datum'])\n",
    "\n",
    "sales_data.head()\n",
    "\n",
    "# store the prepared dataframe\n",
    "sales_data.to_pickle('../exported_data/prepared_sales_data.pkl')"
   ]
  },
  {
   "cell_type": "markdown",
   "metadata": {},
   "source": [
    "## Display details about the dataset"
   ]
  },
  {
   "cell_type": "code",
   "execution_count": 4,
   "metadata": {},
   "outputs": [
    {
     "name": "stdout",
     "output_type": "stream",
     "text": [
      "youngest date in set: 2018-07-31 00:00:00\n",
      "oldest date in set: 2013-07-01 00:00:00\n"
     ]
    }
   ],
   "source": [
    "# find max date\n",
    "max_date = sales_data['Datum'].max()\n",
    "print(f\"youngest date in set: {max_date}\")\n",
    "\n",
    "# find min date\n",
    "min_date= sales_data['Datum'].min()\n",
    "print(f\"oldest date in set: {min_date}\")"
   ]
  }
 ],
 "metadata": {
  "kernelspec": {
   "display_name": "Python 3",
   "language": "python",
   "name": "python3"
  },
  "language_info": {
   "codemirror_mode": {
    "name": "ipython",
    "version": 3
   },
   "file_extension": ".py",
   "mimetype": "text/x-python",
   "name": "python",
   "nbconvert_exporter": "python",
   "pygments_lexer": "ipython3",
   "version": "3.10.13"
  }
 },
 "nbformat": 4,
 "nbformat_minor": 2
}
