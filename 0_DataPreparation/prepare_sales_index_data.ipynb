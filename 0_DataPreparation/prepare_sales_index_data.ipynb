{
 "cells": [
  {
   "cell_type": "markdown",
   "metadata": {},
   "source": [
    "# Convert Sales index data from Month in day format\n",
    "\n",
    "Sales index data is given only per Month, to make later merge with other data easier, strech month value to every concrete day in given timerange."
   ]
  },
  {
   "cell_type": "code",
   "execution_count": 22,
   "metadata": {},
   "outputs": [],
   "source": [
    "import pandas as pd\n",
    "\n",
    "# CSV-Datei laden\n",
    "sales_index_df = pd.read_csv('../bakery_sales_data/einzelhandels_index.csv')\n",
    "\n",
    "base_dateranges = pd.read_pickle('../exported_data/base_dateranges_data.pkl')\n",
    "\n",
    "# add extra colum for year and month\n",
    "base_dateranges['Year'] = base_dateranges['Datum'].dt.year\n",
    "base_dateranges['Month'] = base_dateranges['Datum'].dt.month\n",
    "\n",
    "sales_index_by_day_df = pd.merge(base_dateranges, sales_index_df, how='left', on=['Year', 'Month'])\n",
    "\n",
    "sales_index_by_day_df.drop(columns=['Year', 'Month'], inplace=True)\n",
    "\n",
    "sales_index_by_day_df.head(10)\n",
    "\n",
    "# store new frame but as csv\n",
    "sales_index_by_day_df.to_csv('../bakery_sales_data/einzelhandels_index_by_date.csv', index=False)"
   ]
  }
 ],
 "metadata": {
  "kernelspec": {
   "display_name": "Python 3",
   "language": "python",
   "name": "python3"
  },
  "language_info": {
   "codemirror_mode": {
    "name": "ipython",
    "version": 3
   },
   "file_extension": ".py",
   "mimetype": "text/x-python",
   "name": "python",
   "nbconvert_exporter": "python",
   "pygments_lexer": "ipython3",
   "version": "3.10.13"
  }
 },
 "nbformat": 4,
 "nbformat_minor": 2
}
