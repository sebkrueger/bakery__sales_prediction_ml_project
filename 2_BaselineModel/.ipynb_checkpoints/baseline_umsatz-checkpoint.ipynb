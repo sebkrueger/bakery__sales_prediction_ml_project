{
 "cells": [
  {
   "cell_type": "code",
   "execution_count": 18,
   "metadata": {},
   "outputs": [
    {
     "name": "stdout",
     "output_type": "stream",
     "text": [
      "                            OLS Regression Results                            \n",
      "==============================================================================\n",
      "Dep. Variable:                 Umsatz   R-squared:                       0.685\n",
      "Model:                            OLS   Adj. R-squared:                  0.685\n",
      "Method:                 Least Squares   F-statistic:                     3371.\n",
      "Date:                Mon, 27 May 2024   Prob (F-statistic):               0.00\n",
      "Time:                        23:01:09   Log-Likelihood:                -54189.\n",
      "No. Observations:                9318   AIC:                         1.084e+05\n",
      "Df Residuals:                    9311   BIC:                         1.084e+05\n",
      "Df Model:                           6                                         \n",
      "Covariance Type:            nonrobust                                         \n",
      "=======================================================================================\n",
      "                          coef    std err          t      P>|t|      [0.025      0.975]\n",
      "---------------------------------------------------------------------------------------\n",
      "Intercept              72.7152      2.384     30.503      0.000      68.042      77.388\n",
      "C(Warengruppe)[T.2]   280.3416      2.695    104.030      0.000     275.059     285.624\n",
      "C(Warengruppe)[T.3]    41.2131      2.695     15.294      0.000      35.931      46.496\n",
      "C(Warengruppe)[T.4]   -34.0637      2.715    -12.547      0.000     -39.386     -28.742\n",
      "C(Warengruppe)[T.5]   154.7358      2.695     57.420      0.000     149.453     160.018\n",
      "C(Warengruppe)[T.6]   -33.0805      5.168     -6.401      0.000     -43.210     -22.951\n",
      "Temperatur              4.0505      0.117     34.520      0.000       3.820       4.280\n",
      "==============================================================================\n",
      "Omnibus:                     8926.501   Durbin-Watson:                   0.962\n",
      "Prob(Omnibus):                  0.000   Jarque-Bera (JB):          1516673.664\n",
      "Skew:                           4.163   Prob(JB):                         0.00\n",
      "Kurtosis:                      64.944   Cond. No.                         96.1\n",
      "==============================================================================\n",
      "\n",
      "Notes:\n",
      "[1] Standard Errors assume that the covariance matrix of the errors is correctly specified.\n",
      "Der vorhergesagte Umsatz in der Warengruppe 1 bei einer Temperatur von 19 Grad beträgt: 149.67382599177742\n"
     ]
    }
   ],
   "source": [
    "import pandas as pd\n",
    "import statsmodels.formula.api as smf\n",
    "\n",
    "# Load the dataset\n",
    "url = \"https://raw.githubusercontent.com/sebkrueger/bakery_sales_prediction_ml_project/main/bakery_sales_data/bakery_sales_prediction_data.csv\"\n",
    "house_pricing = pd.read_csv(url)\n",
    "\n",
    "# Fit the linear model\n",
    "mod = smf.ols('Umsatz ~ Temperatur + C(Warengruppe)', data=house_pricing).fit()\n",
    "\n",
    "# Print the summary\n",
    "print(mod.summary())\n",
    "\n",
    "temp = 19\n",
    "ware = 1\n",
    "\n",
    "new_house = pd.DataFrame({\n",
    "    'Temperatur': [temp],\n",
    "    'Warengruppe': [ware]\n",
    "})\n",
    "\n",
    "predicted_price = mod.predict(new_house)\n",
    "\n",
    "print(f\"Der vorhergesagte Umsatz in der Warengruppe {ware} bei einer Temperatur von {temp} Grad beträgt: {predicted_price[0]}\")"
   ]
  },
  {
   "cell_type": "code",
   "execution_count": null,
   "metadata": {},
   "outputs": [],
   "source": []
  }
 ],
 "metadata": {
  "kernelspec": {
   "display_name": "Python 3 (ipykernel)",
   "language": "python",
   "name": "python3"
  },
  "language_info": {
   "codemirror_mode": {
    "name": "ipython",
    "version": 3
   },
   "file_extension": ".py",
   "mimetype": "text/x-python",
   "name": "python",
   "nbconvert_exporter": "python",
   "pygments_lexer": "ipython3",
   "version": "3.10.13"
  }
 },
 "nbformat": 4,
 "nbformat_minor": 4
}
