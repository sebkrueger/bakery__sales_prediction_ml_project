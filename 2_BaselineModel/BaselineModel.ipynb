{
 "cells": [
  {
   "cell_type": "markdown",
   "metadata": {},
   "source": [
    "# This notebook implement a baseline model in linear regression "
   ]
  },
  {
   "cell_type": "markdown",
   "metadata": {},
   "source": [
    "## Import and prepare dataset\n",
    "Load the dataset out of .pkl file we preapared ind file \"DataPreparation.ipynb\"."
   ]
  },
  {
   "cell_type": "code",
   "execution_count": 15,
   "metadata": {},
   "outputs": [],
   "source": [
    "# import all needed libs\n",
    "import pandas as pd\n",
    "import statsmodels.formula.api as smf\n",
    "from sklearn.metrics import mean_squared_error, r2_score\n",
    "\n",
    "# read training data into datadframe\n",
    "train_set = pd.read_pickle('../train_val_test_data/train_set.pkl')"
   ]
  },
  {
   "cell_type": "markdown",
   "metadata": {},
   "source": [
    "## Try the first version of the model"
   ]
  },
  {
   "cell_type": "code",
   "execution_count": 16,
   "metadata": {},
   "outputs": [
    {
     "name": "stdout",
     "output_type": "stream",
     "text": [
      "                            OLS Regression Results                            \n",
      "==============================================================================\n",
      "Dep. Variable:                 Umsatz   R-squared:                       0.696\n",
      "Model:                            OLS   Adj. R-squared:                  0.695\n",
      "Method:                 Least Squares   F-statistic:                     2443.\n",
      "Date:                Fri, 21 Jun 2024   Prob (F-statistic):               0.00\n",
      "Time:                        19:45:16   Log-Likelihood:                -43608.\n",
      "No. Observations:                7493   AIC:                         8.723e+04\n",
      "Df Residuals:                    7485   BIC:                         8.729e+04\n",
      "Df Model:                           7                                         \n",
      "Covariance Type:            nonrobust                                         \n",
      "==========================================================================================\n",
      "                             coef    std err          t      P>|t|      [0.025      0.975]\n",
      "------------------------------------------------------------------------------------------\n",
      "Intercept                 59.9359      2.822     21.238      0.000      54.404      65.468\n",
      "C(Warengruppe)[T.2.0]    289.2590      3.017     95.875      0.000     283.345     295.173\n",
      "C(Warengruppe)[T.3.0]     42.8076      3.017     14.189      0.000      36.893      48.722\n",
      "C(Warengruppe)[T.4.0]    -32.8345      3.045    -10.782      0.000     -38.804     -26.865\n",
      "C(Warengruppe)[T.5.0]    159.5546      3.017     52.884      0.000     153.640     165.469\n",
      "C(Warengruppe)[T.6.0]    -27.9233      5.777     -4.833      0.000     -39.249     -16.598\n",
      "Temperatur                 5.0166      0.151     33.232      0.000       4.721       5.313\n",
      "monthly_mean_temp_diff    -4.6650      0.346    -13.477      0.000      -5.344      -3.986\n",
      "==============================================================================\n",
      "Omnibus:                     7558.268   Durbin-Watson:                   1.539\n",
      "Prob(Omnibus):                  0.000   Jarque-Bera (JB):          1514776.641\n",
      "Skew:                           4.497   Prob(JB):                         0.00\n",
      "Kurtosis:                      72.072   Cond. No.                         95.9\n",
      "==============================================================================\n",
      "\n",
      "Notes:\n",
      "[1] Standard Errors assume that the covariance matrix of the errors is correctly specified.\n"
     ]
    }
   ],
   "source": [
    "# import all needed libs (if needed pip install)\n",
    "import statsmodels.formula.api as smf\n",
    "\n",
    "mod = smf.ols('Umsatz ~ Temperatur + monthly_mean_temp_diff + C(Warengruppe)', data=train_set).fit()\n",
    "\n",
    "print(mod.summary())"
   ]
  },
  {
   "cell_type": "markdown",
   "metadata": {},
   "source": [
    "## Second version of the baseline model with more parameter"
   ]
  },
  {
   "cell_type": "code",
   "execution_count": 17,
   "metadata": {},
   "outputs": [
    {
     "name": "stdout",
     "output_type": "stream",
     "text": [
      "                            OLS Regression Results                            \n",
      "==============================================================================\n",
      "Dep. Variable:                 Umsatz   R-squared:                       0.728\n",
      "Model:                            OLS   Adj. R-squared:                  0.727\n",
      "Method:                 Least Squares   F-statistic:                     869.1\n",
      "Date:                Fri, 21 Jun 2024   Prob (F-statistic):               0.00\n",
      "Time:                        19:45:20   Log-Likelihood:                -43186.\n",
      "No. Observations:                7493   AIC:                         8.642e+04\n",
      "Df Residuals:                    7469   BIC:                         8.659e+04\n",
      "Df Model:                          23                                         \n",
      "Covariance Type:            nonrobust                                         \n",
      "==================================================================================================\n",
      "                                     coef    std err          t      P>|t|      [0.025      0.975]\n",
      "--------------------------------------------------------------------------------------------------\n",
      "Intercept                       1019.9967     74.254     13.737      0.000     874.437    1165.556\n",
      "C(Wind_Kategorie)[T.wind]          1.6468      2.127      0.774      0.439      -2.523       5.817\n",
      "C(Wind_Kategorie)[T.windstill]   -15.1166      4.399     -3.437      0.001     -23.739      -6.494\n",
      "C(DayOfWeek)[T.Monday]            -6.5113      3.367     -1.934      0.053     -13.111       0.089\n",
      "C(DayOfWeek)[T.Saturday]          12.4806      1.935      6.448      0.000       8.687      16.275\n",
      "C(DayOfWeek)[T.Sunday]            20.4852      1.942     10.551      0.000      16.679      24.291\n",
      "C(DayOfWeek)[T.Thursday]          -3.0619      3.366     -0.910      0.363      -9.660       3.537\n",
      "C(DayOfWeek)[T.Tuesday]           -7.8469      3.346     -2.345      0.019     -14.406      -1.288\n",
      "C(DayOfWeek)[T.Wednesday]         -7.7781      3.356     -2.318      0.020     -14.356      -1.200\n",
      "C(Warengruppe)[T.2.0]            289.2590      2.855    101.322      0.000     283.663     294.855\n",
      "C(Warengruppe)[T.3.0]             42.8076      2.855     14.995      0.000      37.211      48.404\n",
      "C(Warengruppe)[T.4.0]            -32.3551      2.882    -11.227      0.000     -38.004     -26.706\n",
      "C(Warengruppe)[T.5.0]            159.5546      2.855     55.889      0.000     153.958     165.151\n",
      "C(Warengruppe)[T.6.0]            -43.6754      5.441     -8.027      0.000     -54.342     -33.009\n",
      "rainday                            3.9186      1.865      2.101      0.036       0.262       7.575\n",
      "monthly_mean_temp_diff            -0.6954      0.307     -2.265      0.024      -1.297      -0.094\n",
      "sunny                             11.5084      2.471      4.657      0.000       6.665      16.352\n",
      "snowday                          -18.2084      7.173     -2.539      0.011     -32.269      -4.148\n",
      "weekend                           32.9658      1.945     16.953      0.000      29.154      36.778\n",
      "KielerWoche                       56.9442      5.913      9.631      0.000      45.354      68.535\n",
      "BinElec                            6.9480     20.098      0.346      0.730     -32.450      46.346\n",
      "SchholCode                       -24.7311      1.674    -14.775      0.000     -28.012     -21.450\n",
      "BinHoly                           82.6967      8.558      9.663      0.000      65.920      99.473\n",
      "BinSchhol                        109.2396      4.020     27.173      0.000     101.359     117.120\n",
      "Salesindex                        -9.8320      0.784    -12.544      0.000     -11.368      -8.296\n",
      "==============================================================================\n",
      "Omnibus:                     7662.408   Durbin-Watson:                   1.744\n",
      "Prob(Omnibus):                  0.000   Jarque-Bera (JB):          1921037.516\n",
      "Skew:                           4.528   Prob(JB):                         0.00\n",
      "Kurtosis:                      80.917   Cond. No.                     1.46e+17\n",
      "==============================================================================\n",
      "\n",
      "Notes:\n",
      "[1] Standard Errors assume that the covariance matrix of the errors is correctly specified.\n",
      "[2] The smallest eigenvalue is 3.13e-27. This might indicate that there are\n",
      "strong multicollinearity problems or that the design matrix is singular.\n"
     ]
    }
   ],
   "source": [
    "# import all needed libs (if needed pip install)\n",
    "import statsmodels.formula.api as smf\n",
    "\n",
    "mod = smf.ols('Umsatz ~ C(Wind_Kategorie) + rainday + monthly_mean_temp_diff + sunny + snowday \\\n",
    "              + C(DayOfWeek) +weekend \\\n",
    "              + KielerWoche + BinElec + SchholCode +  BinHoly \\\n",
    "              + BinSchhol \\\n",
    "              + Salesindex \\\n",
    "              + C(Warengruppe)', data=train_set).fit()\n",
    "\n",
    "print(mod.summary())"
   ]
  },
  {
   "cell_type": "markdown",
   "metadata": {},
   "source": [
    "Values like BinElec und C(Wind_Kategorie)[T.sturm] have high p-values and should remove."
   ]
  },
  {
   "cell_type": "markdown",
   "metadata": {},
   "source": [
    "### More improved Baseline model\n",
    "\n",
    "Remove of some values that might not have much impact and try some interaction between some values"
   ]
  },
  {
   "cell_type": "code",
   "execution_count": 18,
   "metadata": {},
   "outputs": [
    {
     "name": "stdout",
     "output_type": "stream",
     "text": [
      "                            OLS Regression Results                            \n",
      "==============================================================================\n",
      "Dep. Variable:                 Umsatz   R-squared:                       0.728\n",
      "Model:                            OLS   Adj. R-squared:                  0.727\n",
      "Method:                 Least Squares   F-statistic:                     1110.\n",
      "Date:                Fri, 21 Jun 2024   Prob (F-statistic):               0.00\n",
      "Time:                        19:45:25   Log-Likelihood:                -43190.\n",
      "No. Observations:                7493   AIC:                         8.642e+04\n",
      "Df Residuals:                    7474   BIC:                         8.655e+04\n",
      "Df Model:                          18                                         \n",
      "Covariance Type:            nonrobust                                         \n",
      "==================================================================================================\n",
      "                                     coef    std err          t      P>|t|      [0.025      0.975]\n",
      "--------------------------------------------------------------------------------------------------\n",
      "Intercept                       1017.3146     74.212     13.708      0.000     871.839    1162.791\n",
      "C(Wind_Kategorie)[T.wind]          1.6966      2.125      0.798      0.425      -2.469       5.862\n",
      "C(Wind_Kategorie)[T.windstill]   -14.9881      4.395     -3.410      0.001     -23.604      -6.373\n",
      "C(Warengruppe)[T.2.0]            289.2590      2.855    101.300      0.000     283.661     294.856\n",
      "C(Warengruppe)[T.3.0]             42.8076      2.855     14.992      0.000      37.210      48.405\n",
      "C(Warengruppe)[T.4.0]            -32.3097      2.882    -11.209      0.000     -37.960     -26.659\n",
      "C(Warengruppe)[T.5.0]            159.5546      2.855     55.877      0.000     153.957     165.152\n",
      "C(Warengruppe)[T.6.0]            -43.6884      5.442     -8.028      0.000     -54.356     -33.020\n",
      "rainday                            3.8621      1.864      2.072      0.038       0.208       7.516\n",
      "monthly_mean_temp_diff            -0.6125      0.307     -1.994      0.046      -1.215      -0.010\n",
      "sunny                              7.9852      2.882      2.771      0.006       2.336      13.634\n",
      "weekend                           52.2951      2.185     23.928      0.000      48.011      56.579\n",
      "sunny:weekend                     12.8361      5.205      2.466      0.014       2.633      23.039\n",
      "snowday                          -17.9047      7.159     -2.501      0.012     -31.938      -3.871\n",
      "KielerWoche                       57.2823      5.915      9.684      0.000      45.687      68.878\n",
      "SchholCode                       -24.8677      1.675    -14.846      0.000     -28.151     -21.584\n",
      "BinHoly                           83.0459      8.487      9.785      0.000      66.409      99.683\n",
      "BinSchhol                        109.1094      4.019     27.147      0.000     101.231     116.988\n",
      "Salesindex                        -9.8501      0.784    -12.569      0.000     -11.386      -8.314\n",
      "==============================================================================\n",
      "Omnibus:                     7643.270   Durbin-Watson:                   1.737\n",
      "Prob(Omnibus):                  0.000   Jarque-Bera (JB):          1899572.428\n",
      "Skew:                           4.510   Prob(JB):                         0.00\n",
      "Kurtosis:                      80.479   Cond. No.                     7.86e+03\n",
      "==============================================================================\n",
      "\n",
      "Notes:\n",
      "[1] Standard Errors assume that the covariance matrix of the errors is correctly specified.\n",
      "[2] The condition number is large, 7.86e+03. This might indicate that there are\n",
      "strong multicollinearity or other numerical problems.\n"
     ]
    }
   ],
   "source": [
    "# import all needed libs (if needed pip install)\n",
    "import statsmodels.formula.api as smf\n",
    "\n",
    "mod = smf.ols('Umsatz ~ C(Wind_Kategorie) + rainday + monthly_mean_temp_diff \\\n",
    "              + sunny + (sunny * weekend) + snowday \\\n",
    "              + weekend \\\n",
    "              + KielerWoche + SchholCode +  BinHoly \\\n",
    "              + BinSchhol \\\n",
    "              + Salesindex \\\n",
    "              + C(Warengruppe)', data=train_set).fit()\n",
    "\n",
    "print(mod.summary())"
   ]
  },
  {
   "cell_type": "markdown",
   "metadata": {},
   "source": [
    "## Validate the model "
   ]
  },
  {
   "cell_type": "code",
   "execution_count": 19,
   "metadata": {},
   "outputs": [
    {
     "name": "stdout",
     "output_type": "stream",
     "text": [
      "Validation results\n",
      "Mean Squared Error: 5004.9225953146415\n",
      "R^2 Score: 0.7041951530223045\n"
     ]
    }
   ],
   "source": [
    "# read validation data into datadframe\n",
    "validation_set = pd.read_pickle('../train_val_test_data/validation_set.pkl')\n",
    "\n",
    "# Remove rows with NaN values in 'Umsatz' from the validation_set\n",
    "# Potential TO-DO: look why we have this 8 rows of NaN data?\n",
    "validation_set = validation_set.dropna(subset=['Umsatz'])\n",
    "\n",
    "# Make predictions on the validation data\n",
    "validation_set['Umsatz_predictions'] = mod.predict(validation_set)\n",
    "\n",
    "# Calculate evaluation metrics\n",
    "mse = mean_squared_error(validation_set['Umsatz'], validation_set['Umsatz_predictions'])\n",
    "r2 = r2_score(validation_set['Umsatz'], validation_set['Umsatz_predictions'])\n",
    "\n",
    "print(\"Validation results\")\n",
    "print(f'Mean Squared Error: {mse}')\n",
    "print(f'R^2 Score: {r2}')"
   ]
  },
  {
   "cell_type": "markdown",
   "metadata": {},
   "source": [
    "## Make predictions based on model above "
   ]
  },
  {
   "cell_type": "code",
   "execution_count": 10,
   "metadata": {},
   "outputs": [
    {
     "name": "stdout",
     "output_type": "stream",
     "text": [
      "OK : DataFrame has exact 1830 Entries!\n"
     ]
    }
   ],
   "source": [
    "# load testset\n",
    "test_set = pd.read_pickle('../train_val_test_data/test_set.pkl')\n",
    "\n",
    "# calculate predictions for later upload \n",
    "test_set['Umsatz'] = mod.predict(test_set)\n",
    "\n",
    "test_set.head()\n",
    "\n",
    "# reduce to id and Umsatz columns \n",
    "submission_set = test_set[['id','Umsatz']]\n",
    "\n",
    "# Check if the count of dataset is correct for kaggle upload\n",
    "if submission_set.shape[0] == 1830:\n",
    "    print(\"OK : DataFrame has exact 1830 Entries!\")\n",
    "else:\n",
    "    print(f\"ERROR Dataframe has wrong number of {submission_set.shape[0]} Entries!\")\n",
    "\n",
    "# store the submission data\n",
    "submission_set.to_csv('../prediction_data/submission.csv', index=False)\n"
   ]
  }
 ],
 "metadata": {
  "kernelspec": {
   "display_name": "Python 3",
   "language": "python",
   "name": "python3"
  },
  "language_info": {
   "codemirror_mode": {
    "name": "ipython",
    "version": 3
   },
   "file_extension": ".py",
   "mimetype": "text/x-python",
   "name": "python",
   "nbconvert_exporter": "python",
   "pygments_lexer": "ipython3",
   "version": "3.10.13"
  }
 },
 "nbformat": 4,
 "nbformat_minor": 2
}
