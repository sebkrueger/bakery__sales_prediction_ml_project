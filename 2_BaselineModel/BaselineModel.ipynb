{
 "cells": [
  {
   "cell_type": "markdown",
   "metadata": {},
   "source": [
    "# This notebook implement a baseline model in linear regression "
   ]
  },
  {
   "cell_type": "markdown",
   "metadata": {},
   "source": [
    "## Import and prepare dataset\n",
    "Load the dataset out of .pkl file we preapared ind file \"DataPreparation.ipynb\"."
   ]
  },
  {
   "cell_type": "code",
   "execution_count": 11,
   "metadata": {},
   "outputs": [],
   "source": [
    "# import all needed libs\n",
    "import pandas as pd\n",
    "import statsmodels.formula.api as smf\n",
    "\n",
    "# read training data into datadframe\n",
    "train_set = pd.read_pickle('../train_val_test_data/train_set.pkl')"
   ]
  },
  {
   "cell_type": "markdown",
   "metadata": {},
   "source": [
    "## Try the first version of the model"
   ]
  },
  {
   "cell_type": "code",
   "execution_count": 12,
   "metadata": {},
   "outputs": [
    {
     "name": "stdout",
     "output_type": "stream",
     "text": [
      "                            OLS Regression Results                            \n",
      "==============================================================================\n",
      "Dep. Variable:                 Umsatz   R-squared:                       0.695\n",
      "Model:                            OLS   Adj. R-squared:                  0.695\n",
      "Method:                 Least Squares   F-statistic:                     2440.\n",
      "Date:                Sat, 01 Jun 2024   Prob (F-statistic):               0.00\n",
      "Time:                        22:57:26   Log-Likelihood:                -43575.\n",
      "No. Observations:                7487   AIC:                         8.717e+04\n",
      "Df Residuals:                    7479   BIC:                         8.722e+04\n",
      "Df Model:                           7                                         \n",
      "Covariance Type:            nonrobust                                         \n",
      "==========================================================================================\n",
      "                             coef    std err          t      P>|t|      [0.025      0.975]\n",
      "------------------------------------------------------------------------------------------\n",
      "Intercept                 59.9076      2.824     21.215      0.000      54.372      65.443\n",
      "C(Warengruppe)[T.2.0]    289.1639      3.019     95.792      0.000     283.246     295.081\n",
      "C(Warengruppe)[T.3.0]     42.7563      3.019     14.164      0.000      36.839      48.674\n",
      "C(Warengruppe)[T.4.0]    -32.9022      3.047    -10.798      0.000     -38.875     -26.929\n",
      "C(Warengruppe)[T.5.0]    159.5235      3.019     52.846      0.000     153.606     165.441\n",
      "C(Warengruppe)[T.6.0]    -28.0046      5.789     -4.837      0.000     -39.353     -16.656\n",
      "Temperatur                 5.0209      0.151     33.248      0.000       4.725       5.317\n",
      "monthly_mean_temp_diff    -4.6768      0.346    -13.505      0.000      -5.356      -3.998\n",
      "==============================================================================\n",
      "Omnibus:                     7554.868   Durbin-Watson:                   1.539\n",
      "Prob(Omnibus):                  0.000   Jarque-Bera (JB):          1514511.326\n",
      "Skew:                           4.500   Prob(JB):                         0.00\n",
      "Kurtosis:                      72.093   Cond. No.                         96.0\n",
      "==============================================================================\n",
      "\n",
      "Notes:\n",
      "[1] Standard Errors assume that the covariance matrix of the errors is correctly specified.\n"
     ]
    }
   ],
   "source": [
    "# import all needed libs (if needed pip install)\n",
    "import statsmodels.formula.api as smf\n",
    "\n",
    "\n",
    "mod = smf.ols('Umsatz ~ Temperatur + monthly_mean_temp_diff + C(Warengruppe)', data=train_set).fit()\n",
    "\n",
    "print(mod.summary())"
   ]
  },
  {
   "cell_type": "markdown",
   "metadata": {},
   "source": [
    "## Make predictions based on model above "
   ]
  },
  {
   "cell_type": "code",
   "execution_count": 17,
   "metadata": {},
   "outputs": [],
   "source": [
    "# load testset\n",
    "test_set = pd.read_pickle('../train_val_test_data/test_set.pkl')\n",
    "\n",
    "# calculate predictions for later upload \n",
    "test_set['Umsatz'] = mod.predict(test_set)\n",
    "\n",
    "test_set.head()\n",
    "\n",
    "# reduce to id and Umsatz columns \n",
    "submission_set = test_set[['id','Umsatz']]\n",
    "\n",
    "# store the submission data\n",
    "submission_set.to_csv('../prediction_data/submission.csv')\n"
   ]
  }
 ],
 "metadata": {
  "kernelspec": {
   "display_name": "Python 3",
   "language": "python",
   "name": "python3"
  },
  "language_info": {
   "codemirror_mode": {
    "name": "ipython",
    "version": 3
   },
   "file_extension": ".py",
   "mimetype": "text/x-python",
   "name": "python",
   "nbconvert_exporter": "python",
   "pygments_lexer": "ipython3",
   "version": "3.10.13"
  }
 },
 "nbformat": 4,
 "nbformat_minor": 2
}
