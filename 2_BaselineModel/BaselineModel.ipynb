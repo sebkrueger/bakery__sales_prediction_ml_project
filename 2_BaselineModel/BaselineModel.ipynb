{
 "cells": [
  {
   "cell_type": "markdown",
   "metadata": {},
   "source": [
    "# This notebook implement a baseline model in linear regression "
   ]
  },
  {
   "cell_type": "markdown",
   "metadata": {},
   "source": [
    "## Import and prepare dataset\n",
    "Load the dataset out of .pkl file we preapared ind file \"DataPreparation.ipynb\"."
   ]
  },
  {
   "cell_type": "code",
   "execution_count": 6,
   "metadata": {},
   "outputs": [],
   "source": [
    "# import all needed libs\n",
    "import pandas as pd\n",
    "import statsmodels.formula.api as smf\n",
    "from sklearn.metrics import mean_squared_error, r2_score\n",
    "\n",
    "# read training data into datadframe\n",
    "train_set = pd.read_pickle('../train_val_test_data/train_set.pkl')"
   ]
  },
  {
   "cell_type": "markdown",
   "metadata": {},
   "source": [
    "## Try the first version of the model"
   ]
  },
  {
   "cell_type": "code",
   "execution_count": 7,
   "metadata": {},
   "outputs": [
    {
     "name": "stdout",
     "output_type": "stream",
     "text": [
      "                            OLS Regression Results                            \n",
      "==============================================================================\n",
      "Dep. Variable:                 Umsatz   R-squared:                       0.696\n",
      "Model:                            OLS   Adj. R-squared:                  0.695\n",
      "Method:                 Least Squares   F-statistic:                     2443.\n",
      "Date:                Thu, 06 Jun 2024   Prob (F-statistic):               0.00\n",
      "Time:                        20:37:44   Log-Likelihood:                -43608.\n",
      "No. Observations:                7493   AIC:                         8.723e+04\n",
      "Df Residuals:                    7485   BIC:                         8.729e+04\n",
      "Df Model:                           7                                         \n",
      "Covariance Type:            nonrobust                                         \n",
      "==========================================================================================\n",
      "                             coef    std err          t      P>|t|      [0.025      0.975]\n",
      "------------------------------------------------------------------------------------------\n",
      "Intercept                 59.9359      2.822     21.238      0.000      54.404      65.468\n",
      "C(Warengruppe)[T.2.0]    289.2590      3.017     95.875      0.000     283.345     295.173\n",
      "C(Warengruppe)[T.3.0]     42.8076      3.017     14.189      0.000      36.893      48.722\n",
      "C(Warengruppe)[T.4.0]    -32.8345      3.045    -10.782      0.000     -38.804     -26.865\n",
      "C(Warengruppe)[T.5.0]    159.5546      3.017     52.884      0.000     153.640     165.469\n",
      "C(Warengruppe)[T.6.0]    -27.9233      5.777     -4.833      0.000     -39.249     -16.598\n",
      "Temperatur                 5.0166      0.151     33.232      0.000       4.721       5.313\n",
      "monthly_mean_temp_diff    -4.6650      0.346    -13.477      0.000      -5.344      -3.986\n",
      "==============================================================================\n",
      "Omnibus:                     7558.268   Durbin-Watson:                   1.539\n",
      "Prob(Omnibus):                  0.000   Jarque-Bera (JB):          1514776.641\n",
      "Skew:                           4.497   Prob(JB):                         0.00\n",
      "Kurtosis:                      72.072   Cond. No.                         95.9\n",
      "==============================================================================\n",
      "\n",
      "Notes:\n",
      "[1] Standard Errors assume that the covariance matrix of the errors is correctly specified.\n"
     ]
    }
   ],
   "source": [
    "# import all needed libs (if needed pip install)\n",
    "import statsmodels.formula.api as smf\n",
    "\n",
    "mod = smf.ols('Umsatz ~ Temperatur + monthly_mean_temp_diff + C(Warengruppe)', data=train_set).fit()\n",
    "\n",
    "print(mod.summary())"
   ]
  },
  {
   "cell_type": "markdown",
   "metadata": {},
   "source": [
    "## Second version of the baseline model with more parameter"
   ]
  },
  {
   "cell_type": "code",
   "execution_count": 8,
   "metadata": {},
   "outputs": [
    {
     "name": "stdout",
     "output_type": "stream",
     "text": [
      "                            OLS Regression Results                            \n",
      "==============================================================================\n",
      "Dep. Variable:                 Umsatz   R-squared:                       0.722\n",
      "Model:                            OLS   Adj. R-squared:                  0.721\n",
      "Method:                 Least Squares   F-statistic:                     881.0\n",
      "Date:                Thu, 06 Jun 2024   Prob (F-statistic):               0.00\n",
      "Time:                        20:37:50   Log-Likelihood:                -43271.\n",
      "No. Observations:                7493   AIC:                         8.659e+04\n",
      "Df Residuals:                    7470   BIC:                         8.675e+04\n",
      "Df Model:                          22                                         \n",
      "Covariance Type:            nonrobust                                         \n",
      "==================================================================================================\n",
      "                                     coef    std err          t      P>|t|      [0.025      0.975]\n",
      "--------------------------------------------------------------------------------------------------\n",
      "Intercept                         94.1078      3.339     28.180      0.000      87.561     100.654\n",
      "C(Wind_Kategorie)[T.sturm]        -0.0503      2.765     -0.018      0.985      -5.471       5.371\n",
      "C(Wind_Kategorie)[T.wind]          3.4568      2.050      1.686      0.092      -0.562       7.476\n",
      "C(Wind_Kategorie)[T.windstill]   -17.1488      4.252     -4.033      0.000     -25.483      -8.814\n",
      "C(DayOfWeek)[T.Monday]            -6.2586      3.406     -1.838      0.066     -12.934       0.417\n",
      "C(DayOfWeek)[T.Saturday]          12.4214      1.957      6.347      0.000       8.585      16.258\n",
      "C(DayOfWeek)[T.Sunday]            20.2891      1.963     10.336      0.000      16.441      24.137\n",
      "C(DayOfWeek)[T.Thursday]          -3.4626      3.405     -1.017      0.309     -10.137       3.212\n",
      "C(DayOfWeek)[T.Tuesday]           -8.4204      3.383     -2.489      0.013     -15.053      -1.788\n",
      "C(DayOfWeek)[T.Wednesday]         -8.1902      3.396     -2.412      0.016     -14.847      -1.533\n",
      "C(Warengruppe)[T.2.0]            289.2590      2.887    100.195      0.000     283.600     294.918\n",
      "C(Warengruppe)[T.3.0]             42.8076      2.887     14.828      0.000      37.148      48.467\n",
      "C(Warengruppe)[T.4.0]            -32.6353      2.914    -11.199      0.000     -38.348     -26.923\n",
      "C(Warengruppe)[T.5.0]            159.5546      2.887     55.268      0.000     153.895     165.214\n",
      "C(Warengruppe)[T.6.0]            -39.9353      5.499     -7.263      0.000     -50.714     -29.157\n",
      "rainday                           -2.2721      1.957     -1.161      0.246      -6.108       1.564\n",
      "monthly_mean_temp_diff            -0.5209      0.306     -1.704      0.088      -1.120       0.078\n",
      "sunny                             11.1163      2.530      4.393      0.000       6.156      16.077\n",
      "weekend                           32.7105      1.969     16.616      0.000      28.851      36.570\n",
      "KielerWoche                       53.3453      5.959      8.952      0.000      41.664      65.027\n",
      "BinElec                           10.5515     20.336      0.519      0.604     -29.314      50.417\n",
      "SchholCode                       -25.9711      1.693    -15.337      0.000     -29.291     -22.652\n",
      "BinHoly                           81.3779      8.653      9.405      0.000      64.416      98.340\n",
      "BinSchhol                        113.5663      4.059     27.981      0.000     105.610     121.523\n",
      "==============================================================================\n",
      "Omnibus:                     7585.010   Durbin-Watson:                   1.703\n",
      "Prob(Omnibus):                  0.000   Jarque-Bera (JB):          1792799.079\n",
      "Skew:                           4.465   Prob(JB):                         0.00\n",
      "Kurtosis:                      78.250   Cond. No.                     4.98e+15\n",
      "==============================================================================\n",
      "\n",
      "Notes:\n",
      "[1] Standard Errors assume that the covariance matrix of the errors is correctly specified.\n",
      "[2] The smallest eigenvalue is 2.78e-27. This might indicate that there are\n",
      "strong multicollinearity problems or that the design matrix is singular.\n"
     ]
    }
   ],
   "source": [
    "# import all needed libs (if needed pip install)\n",
    "import statsmodels.formula.api as smf\n",
    "\n",
    "mod = smf.ols('Umsatz ~ C(Wind_Kategorie) + rainday + monthly_mean_temp_diff + sunny \\\n",
    "              + C(DayOfWeek) +weekend \\\n",
    "              + KielerWoche + BinElec + SchholCode +  BinHoly \\\n",
    "              + BinSchhol \\\n",
    "              + C(Warengruppe)', data=train_set).fit()\n",
    "\n",
    "print(mod.summary())"
   ]
  },
  {
   "cell_type": "markdown",
   "metadata": {},
   "source": [
    "Values like BinElec und C(Wind_Kategorie)[T.sturm] have high p-values and should remove."
   ]
  },
  {
   "cell_type": "markdown",
   "metadata": {},
   "source": [
    "### More improved Baseline model\n",
    "\n",
    "Remove of some values that might not have much impact and try some interaction between some values"
   ]
  },
  {
   "cell_type": "code",
   "execution_count": 13,
   "metadata": {},
   "outputs": [
    {
     "name": "stdout",
     "output_type": "stream",
     "text": [
      "                            OLS Regression Results                            \n",
      "==============================================================================\n",
      "Dep. Variable:                 Umsatz   R-squared:                       0.721\n",
      "Model:                            OLS   Adj. R-squared:                  0.721\n",
      "Method:                 Least Squares   F-statistic:                     1139.\n",
      "Date:                Thu, 06 Jun 2024   Prob (F-statistic):               0.00\n",
      "Time:                        20:49:02   Log-Likelihood:                -43275.\n",
      "No. Observations:                7493   AIC:                         8.659e+04\n",
      "Df Residuals:                    7475   BIC:                         8.671e+04\n",
      "Df Model:                          17                                         \n",
      "Covariance Type:            nonrobust                                         \n",
      "==================================================================================================\n",
      "                                     coef    std err          t      P>|t|      [0.025      0.975]\n",
      "--------------------------------------------------------------------------------------------------\n",
      "Intercept                         89.4860      2.566     34.871      0.000      84.455      94.517\n",
      "C(Wind_Kategorie)[T.sturm]        -0.1928      2.764     -0.070      0.944      -5.611       5.226\n",
      "C(Wind_Kategorie)[T.wind]          3.4775      2.049      1.697      0.090      -0.539       7.494\n",
      "C(Wind_Kategorie)[T.windstill]   -17.0448      4.251     -4.010      0.000     -25.378      -8.712\n",
      "C(Warengruppe)[T.2.0]            289.2590      2.888    100.173      0.000     283.598     294.919\n",
      "C(Warengruppe)[T.3.0]             42.8076      2.888     14.825      0.000      37.147      48.468\n",
      "C(Warengruppe)[T.4.0]            -32.5891      2.915    -11.181      0.000     -38.303     -26.875\n",
      "C(Warengruppe)[T.5.0]            159.5546      2.888     55.255      0.000     153.894     165.215\n",
      "C(Warengruppe)[T.6.0]            -39.9649      5.499     -7.267      0.000     -50.745     -29.185\n",
      "rainday                           -2.1609      1.953     -1.106      0.269      -5.990       1.668\n",
      "monthly_mean_temp_diff            -0.4372      0.306     -1.430      0.153      -1.037       0.162\n",
      "sunny                              7.5548      2.941      2.569      0.010       1.790      13.320\n",
      "weekend                           52.1077      2.211     23.568      0.000      47.774      56.442\n",
      "sunny:weekend                     13.1811      5.264      2.504      0.012       2.863      23.499\n",
      "KielerWoche                       53.6595      5.962      9.001      0.000      41.973      65.346\n",
      "SchholCode                       -26.1129      1.694    -15.411      0.000     -29.434     -22.791\n",
      "BinHoly                           81.9360      8.581      9.549      0.000      65.116      98.757\n",
      "BinSchhol                        113.4316      4.057     27.956      0.000     105.478     121.385\n",
      "==============================================================================\n",
      "Omnibus:                     7564.731   Durbin-Watson:                   1.697\n",
      "Prob(Omnibus):                  0.000   Jarque-Bera (JB):          1771085.984\n",
      "Skew:                           4.446   Prob(JB):                         0.00\n",
      "Kurtosis:                      77.791   Cond. No.                         29.0\n",
      "==============================================================================\n",
      "\n",
      "Notes:\n",
      "[1] Standard Errors assume that the covariance matrix of the errors is correctly specified.\n"
     ]
    }
   ],
   "source": [
    "# import all needed libs (if needed pip install)\n",
    "import statsmodels.formula.api as smf\n",
    "\n",
    "mod = smf.ols('Umsatz ~ C(Wind_Kategorie) + rainday + monthly_mean_temp_diff + sunny + (sunny * weekend) \\\n",
    "              + weekend \\\n",
    "              + KielerWoche + SchholCode +  BinHoly \\\n",
    "              + BinSchhol \\\n",
    "              + C(Warengruppe)', data=train_set).fit()\n",
    "\n",
    "print(mod.summary())"
   ]
  },
  {
   "cell_type": "markdown",
   "metadata": {},
   "source": [
    "## Validate the model "
   ]
  },
  {
   "cell_type": "code",
   "execution_count": 14,
   "metadata": {},
   "outputs": [
    {
     "name": "stdout",
     "output_type": "stream",
     "text": [
      "Validation results\n",
      "Mean Squared Error: 5142.98756298684\n",
      "R^2 Score: 0.6960351293940694\n"
     ]
    }
   ],
   "source": [
    "# read validation data into datadframe\n",
    "validation_set = pd.read_pickle('../train_val_test_data/validation_set.pkl')\n",
    "\n",
    "# Remove rows with NaN values in 'Umsatz' from the validation_set\n",
    "# Potential TO-DO: look why we have this 8 rows of NaN data?\n",
    "validation_set = validation_set.dropna(subset=['Umsatz'])\n",
    "\n",
    "# Make predictions on the validation data\n",
    "validation_set['Umsatz_predictions'] = mod.predict(validation_set)\n",
    "\n",
    "# Calculate evaluation metrics\n",
    "mse = mean_squared_error(validation_set['Umsatz'], validation_set['Umsatz_predictions'])\n",
    "r2 = r2_score(validation_set['Umsatz'], validation_set['Umsatz_predictions'])\n",
    "\n",
    "print(\"Validation results\")\n",
    "print(f'Mean Squared Error: {mse}')\n",
    "print(f'R^2 Score: {r2}')"
   ]
  },
  {
   "cell_type": "markdown",
   "metadata": {},
   "source": [
    "## Make predictions based on model above "
   ]
  },
  {
   "cell_type": "code",
   "execution_count": 15,
   "metadata": {},
   "outputs": [
    {
     "name": "stdout",
     "output_type": "stream",
     "text": [
      "OK : DataFrame has exact 1830 Entries!\n"
     ]
    }
   ],
   "source": [
    "# load testset\n",
    "test_set = pd.read_pickle('../train_val_test_data/test_set.pkl')\n",
    "\n",
    "# calculate predictions for later upload \n",
    "test_set['Umsatz'] = mod.predict(test_set)\n",
    "\n",
    "test_set.head()\n",
    "\n",
    "# reduce to id and Umsatz columns \n",
    "submission_set = test_set[['id','Umsatz']]\n",
    "\n",
    "# Check if the count of dataset is correct for kaggle upload\n",
    "if submission_set.shape[0] == 1830:\n",
    "    print(\"OK : DataFrame has exact 1830 Entries!\")\n",
    "else:\n",
    "    print(f\"ERROR Dataframe has wrong number of {df.shape[0]} Entries!\")\n",
    "\n",
    "# store the submission data\n",
    "submission_set.to_csv('../prediction_data/submission.csv', index=False)\n"
   ]
  }
 ],
 "metadata": {
  "kernelspec": {
   "display_name": "Python 3",
   "language": "python",
   "name": "python3"
  },
  "language_info": {
   "codemirror_mode": {
    "name": "ipython",
    "version": 3
   },
   "file_extension": ".py",
   "mimetype": "text/x-python",
   "name": "python",
   "nbconvert_exporter": "python",
   "pygments_lexer": "ipython3",
   "version": "3.10.13"
  }
 },
 "nbformat": 4,
 "nbformat_minor": 2
}
